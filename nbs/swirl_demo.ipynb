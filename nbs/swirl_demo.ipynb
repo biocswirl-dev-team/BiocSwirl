{
 "cells": [
  {
   "cell_type": "code",
   "execution_count": 196,
   "metadata": {
    "ExecuteTime": {
     "end_time": "2020-05-22T19:34:35.448447Z",
     "start_time": "2020-05-22T19:34:28.438754Z"
    }
   },
   "outputs": [
    {
     "name": "stdout",
     "output_type": "stream",
     "text": [
      "Looking in indexes: https://registry.affirm-stage.com/artifactory/api/pypi/pypi/simple\n",
      "Requirement already up-to-date: pip in /Users/bensonlee/.pyenv/versions/3.7.3/lib/python3.7/site-packages (20.1.1)\n",
      "Looking in indexes: https://registry.affirm-stage.com/artifactory/api/pypi/pypi/simple\n",
      "Requirement already up-to-date: numpy in /Users/bensonlee/.pyenv/versions/3.7.3/lib/python3.7/site-packages (1.18.4)\n",
      "Requirement already up-to-date: pandas in /Users/bensonlee/.pyenv/versions/3.7.3/lib/python3.7/site-packages (1.0.3)\n",
      "Requirement already satisfied, skipping upgrade: python-dateutil>=2.6.1 in /Users/bensonlee/.pyenv/versions/3.7.3/lib/python3.7/site-packages (from pandas) (2.8.1)\n",
      "Requirement already satisfied, skipping upgrade: pytz>=2017.2 in /Users/bensonlee/.pyenv/versions/3.7.3/lib/python3.7/site-packages (from pandas) (2020.1)\n",
      "Requirement already satisfied, skipping upgrade: six>=1.5 in /Users/bensonlee/.pyenv/versions/3.7.3/lib/python3.7/site-packages (from python-dateutil>=2.6.1->pandas) (1.13.0)\n"
     ]
    }
   ],
   "source": [
    "# download latest version of pip, numpy, pandas if desired\n",
    "!pip install --upgrade pip\n",
    "!pip install --upgrade numpy pandas"
   ]
  },
  {
   "cell_type": "code",
   "execution_count": 197,
   "metadata": {
    "ExecuteTime": {
     "end_time": "2020-05-22T19:34:35.462358Z",
     "start_time": "2020-05-22T19:34:35.458324Z"
    }
   },
   "outputs": [],
   "source": [
    "import yaml\n",
    "import os\n",
    "\n",
    "import random\n",
    "import numpy as np\n",
    "import pandas as pd\n",
    "import matplotlib.pyplot as plt\n",
    "import re\n",
    "from sklearn.decomposition import PCA\n",
    "\n",
    "import seaborn as sns"
   ]
  },
  {
   "cell_type": "markdown",
   "metadata": {},
   "source": [
    "## Some setup"
   ]
  },
  {
   "cell_type": "code",
   "execution_count": 198,
   "metadata": {
    "ExecuteTime": {
     "end_time": "2020-05-22T19:34:35.481532Z",
     "start_time": "2020-05-22T19:34:35.478657Z"
    }
   },
   "outputs": [],
   "source": [
    "rand_incorr = [\"Not quite, but you're learning! Try again.\", \n",
    "               \"That's not the answer I was looking for, but try again.\",\n",
    "               \"Not exactly. Give it another go.\",\n",
    "               \"You're close...I can feel it! Try it again.\",\n",
    "               \"Nice try, but that's not exactly what I was hoping for. Try again.\",\n",
    "               \"One more time. You can do it!\"]\n",
    "\n",
    "rand_corr = [\"Excellent job!\",\n",
    "             \"Nice job!\",\n",
    "             \"You got it!\"]"
   ]
  },
  {
   "cell_type": "code",
   "execution_count": 199,
   "metadata": {
    "ExecuteTime": {
     "end_time": "2020-05-22T19:34:35.496980Z",
     "start_time": "2020-05-22T19:34:35.489959Z"
    },
    "scrolled": false
   },
   "outputs": [],
   "source": [
    "# Parse lesson\n",
    "def process_lesson(yaml):\n",
    "    idx = 0\n",
    "    repeat_q_flag = False\n",
    "    idx_lesson = len(lesson)\n",
    "    while idx < idx_lesson:\n",
    "        if lesson[idx]['Class'] == 'meta':\n",
    "            proc_meta(lesson[idx])\n",
    "            idx += 1\n",
    "        elif lesson[idx]['Class'] == 'text':\n",
    "            proc_text(lesson[idx])\n",
    "            idx += 1\n",
    "        elif lesson[idx]['Class'] == 'mult_question':\n",
    "            corr = proc_mult_choice(lesson[idx], repeat_q_flag)\n",
    "            repeat_q_flag = not corr\n",
    "            idx += int(corr)    \n",
    "        elif lesson[idx]['Class'] in ['cmd_question', 'script']:\n",
    "#             print(lesson[idx])\n",
    "            corr = proc_script(lesson[idx], repeat_q_flag)\n",
    "            repeat_q_flag = not corr\n",
    "            idx += int(corr)\n",
    "        else:\n",
    "            print(\"UNK!!\")\n",
    "            print(lesson[idx])\n",
    "            idx += 1\n",
    "            \n",
    "    print(\"Congrats on completing the lesson!\")"
   ]
  },
  {
   "cell_type": "code",
   "execution_count": 208,
   "metadata": {
    "ExecuteTime": {
     "end_time": "2020-05-22T19:37:45.970521Z",
     "start_time": "2020-05-22T19:37:45.955261Z"
    },
    "scrolled": true
   },
   "outputs": [],
   "source": [
    "def proc_meta(d: dict):\n",
    "    \"\"\"\n",
    "    Processes metadata associated with lesson bank\n",
    "    \"\"\"\n",
    "    for k, v in d.items():\n",
    "        if k != 'Class':\n",
    "            print(f'{k}: {v}')\n",
    "    return 1\n",
    "\n",
    "def proc_text(d: dict):\n",
    "    \"\"\"\n",
    "    Processes text information for question\n",
    "    \"\"\"\n",
    "    for k, v in d.items():\n",
    "        if k == 'Output':\n",
    "            print(f'{v}')\n",
    "            input(\"Press Enter to continue...\")\n",
    "        print(\"\\n\")\n",
    "        \n",
    "    return 1\n",
    "        \n",
    "def proc_mult_choice(d: dict, repeat_q: bool):\n",
    "    \"\"\"\n",
    "    Prompts user for multiple choice question\n",
    "    \"\"\"\n",
    "    for k, v in d.items():\n",
    "        if k in ['Output', 'AnswerChoices'] and not repeat_q:\n",
    "            if k == 'AnswerChoices':\n",
    "                choices = '\\n'.join(v.split(';'))\n",
    "                print(f\"Choices: \\n\\n{choices}\")\n",
    "            else:\n",
    "                print(f'{v}')\n",
    "        elif k == 'Hint' and repeat_q:\n",
    "            print(f'Hint: {v}')\n",
    "        elif k == 'CorrectAnswer':\n",
    "            ans = v\n",
    "#         else:\n",
    "#             print(f\"Unk: {k}, {v}\")\n",
    "            \n",
    "    guess = input(\"> \")\n",
    "    \n",
    "    # perhaps need to consider numerical precision here; not sure if symbolic evaluation would be nice\n",
    "    if guess.isnumeric():\n",
    "        match = guess == ans\n",
    "    else:\n",
    "        match = re.sub('[\"|\\']', '\\'', re.sub('[^A-Za-z0-9]+', '', guess.upper())) == re.sub('[\"|\\']', '\\'', re.sub('[^A-Za-z0-9]+', '', ans.upper()))\n",
    "        \n",
    "    if match:\n",
    "        print(random.choice(rand_corr))\n",
    "    else:\n",
    "        print(random.choice(rand_incorr))\n",
    "        \n",
    "    return match\n",
    "\n",
    "def proc_script(d: dict, repeat_q: bool):\n",
    "    \"\"\"\n",
    "    Prompts user for question requiring response\n",
    "    \"\"\"\n",
    "    for k, v in d.items():\n",
    "        if k in ['Output', 'AnswerChoices'] and not repeat_q:\n",
    "            if k == 'Answer Choices':\n",
    "                choices = '\\n'.join(v.split(';'))\n",
    "                print(f\"Choices: \\n\\n{choices}\")\n",
    "            else:\n",
    "                print(f'{v}')\n",
    "        elif k == 'Hint' and repeat_q:\n",
    "            print(f'Hint: {v}')\n",
    "        elif k == 'CorrectAnswer':\n",
    "            ans = v\n",
    "            \n",
    "    guess = input(\"> \")\n",
    "    \n",
    "    # perhaps need to consider numerical precision here; not sure if symbolic evaluation would be nice\n",
    "    match = re.sub('[\"|\\']', '\\'', guess) == re.sub('[\"|\\']', '\\'', ans)\n",
    "        \n",
    "    if match:\n",
    "        print(random.choice(rand_corr))\n",
    "    else:\n",
    "        print(random.choice(rand_incorr))\n",
    "        \n",
    "    return match"
   ]
  },
  {
   "cell_type": "markdown",
   "metadata": {},
   "source": [
    "## Start running stuff"
   ]
  },
  {
   "cell_type": "code",
   "execution_count": 209,
   "metadata": {
    "ExecuteTime": {
     "end_time": "2020-05-22T19:37:46.766113Z",
     "start_time": "2020-05-22T19:37:46.761646Z"
    }
   },
   "outputs": [
    {
     "name": "stdout",
     "output_type": "stream",
     "text": [
      "The following courses are available .. \n",
      "\n",
      "low_level_analyses_norm_dim_reduction\n",
      "high_level_analyses_intro_clustering\n",
      "low_level_analyses_intro\n",
      "low_level_analyses_explain_alignment\n",
      "low_level_analyses_import_data\n",
      "low_level_analyses_counting_reads\n"
     ]
    }
   ],
   "source": [
    "# List available courses\n",
    "course_dir = '../courses-python/scRNA-seq/'\n",
    "\n",
    "print(\"The following courses are available .. \\n\")\n",
    "print('\\n'.join([s for s in os.listdir(course_dir) if s != 'MANIFEST']))"
   ]
  },
  {
   "cell_type": "code",
   "execution_count": 214,
   "metadata": {
    "ExecuteTime": {
     "end_time": "2020-05-22T19:40:50.249255Z",
     "start_time": "2020-05-22T19:40:50.236458Z"
    }
   },
   "outputs": [],
   "source": [
    "# Pick lesson to load\n",
    "# doesn't work with import data or high_level_analyses_intro_clustering; think clustering prob needs to be demo'd\n",
    "# since not convenional to do single line in python\n",
    "lesson_to_load = 'low_level_analyses_explain_alignment'\n",
    "lesson = yaml.load(open(os.path.join(course_dir, lesson_to_load, 'lesson.yaml')), Loader=yaml.FullLoader)"
   ]
  },
  {
   "cell_type": "code",
   "execution_count": 215,
   "metadata": {
    "ExecuteTime": {
     "end_time": "2020-05-22T19:40:56.140485Z",
     "start_time": "2020-05-22T19:40:50.424634Z"
    }
   },
   "outputs": [
    {
     "name": "stdout",
     "output_type": "stream",
     "text": [
      "Course: BiocSwirl\n",
      "Lesson: Low Level Analyses\n",
      "Author: Paaksum Wong\n",
      "Type: Standard\n",
      "Organization: The University of British Columbia\n",
      "Version: 1.0\n",
      "\n",
      "\n",
      "Next-gen sequencers output a FASTQ file for each sequencing read (single-end or paired-end), which will be the first thing you work with in scRNA-seq analysis. Each FASTQ file contains a sequence identifier, the nucleotide sequence as well as quality scores for each nucleotide encoded in ASCII characters. The first step of analysis is to align these FASTQ files to a reference.\n",
      "Press Enter to continue...\n",
      "\n",
      "\n",
      "\n",
      "\n",
      "There are many open source and commercial alignment tools with varying sensitivities and speeds. Which aligner you choose to use depends on available computing power and the acceptable trade-off between accuracy and speed. Commonly used aligners include BWA, Bowtie2, HISAT2, Bfast, and Stampy.\n",
      "Press Enter to continue...\n",
      "\n",
      "\n",
      "\n",
      "\n",
      "In our sample data, 100bp single-end reads were aligned using RSEM to the mm10 mouse genome build with the RefSeq annotation downloaded on 11 June 2013. Raw fastq files are available at Gene Expression Omnibus, accession ID GSE71585.\n",
      "Press Enter to continue...\n",
      "\n",
      "\n",
      "\n",
      "\n",
      "The standard output of alignment packages is a BAM file. Before downstream processing of aligned reads (.bam) in R, we must assess the quality of the alignments.\n",
      "Press Enter to continue...\n",
      "\n",
      "\n",
      "What tool can we use to quality check the aligned .bam files?\n",
      "Choices: \n",
      "\n",
      "FastQC\n",
      "samtools\n",
      "STAR\n",
      "DESeq2\n",
      "> FastQC\n",
      "You got it!\n",
      "\n",
      "\n",
      "Go to https://www.bioinformatics.babraham.ac.uk/projects/fastqc/ and follow instructions to perform QC on .bam files.\n",
      "Press Enter to continue...\n",
      "\n",
      "\n",
      "Congrats on completing the lesson!\n"
     ]
    }
   ],
   "source": [
    "process_lesson(lesson)"
   ]
  },
  {
   "cell_type": "code",
   "execution_count": null,
   "metadata": {},
   "outputs": [],
   "source": []
  }
 ],
 "metadata": {
  "kernelspec": {
   "display_name": "Python 3",
   "language": "python",
   "name": "python3"
  },
  "language_info": {
   "codemirror_mode": {
    "name": "ipython",
    "version": 3
   },
   "file_extension": ".py",
   "mimetype": "text/x-python",
   "name": "python",
   "nbconvert_exporter": "python",
   "pygments_lexer": "ipython3",
   "version": "3.7.4"
  },
  "toc": {
   "nav_menu": {},
   "number_sections": true,
   "sideBar": true,
   "skip_h1_title": false,
   "toc_cell": false,
   "toc_position": {},
   "toc_section_display": "block",
   "toc_window_display": false
  },
  "varInspector": {
   "cols": {
    "lenName": 16,
    "lenType": 16,
    "lenVar": 40
   },
   "kernels_config": {
    "python": {
     "delete_cmd_postfix": "",
     "delete_cmd_prefix": "del ",
     "library": "var_list.py",
     "varRefreshCmd": "print(var_dic_list())"
    },
    "r": {
     "delete_cmd_postfix": ") ",
     "delete_cmd_prefix": "rm(",
     "library": "var_list.r",
     "varRefreshCmd": "cat(var_dic_list()) "
    }
   },
   "types_to_exclude": [
    "module",
    "function",
    "builtin_function_or_method",
    "instance",
    "_Feature"
   ],
   "window_display": false
  }
 },
 "nbformat": 4,
 "nbformat_minor": 4
}
