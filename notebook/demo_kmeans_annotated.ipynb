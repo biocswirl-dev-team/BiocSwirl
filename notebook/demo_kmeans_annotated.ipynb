{
<<<<<<< HEAD
 "cells": [
  {
   "cell_type": "code",
   "execution_count": 1,
   "metadata": {
    "ExecuteTime": {
     "end_time": "2020-05-22T19:50:52.051969Z",
     "start_time": "2020-05-22T19:50:51.618492Z"
    }
   },
   "outputs": [],
   "source": [
    "%matplotlib inline"
   ]
  },
  {
   "cell_type": "markdown",
   "metadata": {},
   "source": [
<<<<<<< HEAD
<<<<<<< HEAD
=======
    "\n",
>>>>>>> f43b65a... upd
=======
    "\n",
>>>>>>> parent of 23a3f1a... upd
    "# A demo of K-Means clustering on the handwritten digits data\n",
    "\n",
    "\n",
    "In this example we compare the various initialization strategies for\n",
    "K-means in terms of runtime and quality of the results.\n",
    "\n",
    "As the ground truth is known here, we also apply different cluster\n",
    "quality metrics to judge the goodness of fit of the cluster labels to the\n",
    "ground truth.\n",
    "\n",
    "Cluster quality metrics evaluated (see `clustering_evaluation` for\n",
<<<<<<< HEAD
<<<<<<< HEAD
    "definitions and discussions of the metrics):"
   ]
  },
  {
   "cell_type": "raw",
   "metadata": {},
   "source": [
=======
    "definitions and discussions of the metrics):\n",
    "\n",
>>>>>>> f43b65a... upd
=======
    "definitions and discussions of the metrics):\n",
    "\n",
>>>>>>> parent of 23a3f1a... upd
    "=========== ========================================================\n",
    "Shorthand    full name\n",
    "=========== ========================================================\n",
    "homo         homogeneity score\n",
    "compl        completeness score\n",
    "v-meas       V measure\n",
    "ARI          adjusted Rand index\n",
    "AMI          adjusted mutual information\n",
    "silhouette   silhouette coefficient\n",
<<<<<<< HEAD
<<<<<<< HEAD
    "=========== ========================================================"
=======
    "=========== ========================================================\n"
>>>>>>> f43b65a... upd
=======
    "=========== ========================================================\n"
>>>>>>> parent of 23a3f1a... upd
   ]
  },
  {
   "cell_type": "code",
   "execution_count": 12,
   "metadata": {
    "ExecuteTime": {
     "end_time": "2020-05-22T19:56:03.162180Z",
     "start_time": "2020-05-22T19:56:03.160062Z"
    }
   },
   "outputs": [],
   "source": [
    "# annotated version of https://scikit-learn.org/stable/auto_examples/cluster/plot_kmeans_digits.html\n",
    "\n",
    "# Handwritten digit data described as an 8x8 image (64-dimensional space)\n",
    "# \n",
    "# PCA is used to reduce the dimensionality of the space, after which k-means clustering is run to classify \n",
    "# which images appear to correspond to the same digit"
   ]
  },
  {
   "cell_type": "code",
   "execution_count": 13,
   "metadata": {
    "ExecuteTime": {
     "end_time": "2020-05-22T19:56:03.594656Z",
     "start_time": "2020-05-22T19:56:03.590268Z"
    }
   },
   "outputs": [
    {
     "name": "stdout",
     "output_type": "stream",
     "text": [
      "Automatically created module for IPython interactive environment\n"
     ]
    }
   ],
   "source": [
    "print(__doc__)\n",
    "\n",
    "from time import time\n",
    "import numpy as np\n",
    "import matplotlib.pyplot as plt\n",
    "\n",
    "from sklearn import metrics\n",
    "from sklearn.cluster import KMeans\n",
    "from sklearn.datasets import load_digits\n",
    "from sklearn.decomposition import PCA\n",
    "from sklearn.preprocessing import scale"
   ]
  },
  {
   "cell_type": "code",
   "execution_count": 16,
   "metadata": {
    "ExecuteTime": {
     "end_time": "2020-05-22T19:56:53.975563Z",
     "start_time": "2020-05-22T19:56:53.902767Z"
    }
   },
   "outputs": [],
   "source": [
    "np.random.seed(42)\n",
    "\n",
    "# X_digits is 8x8 image representation of number\n",
    "# y_digits is ground truth (actual digit represented)\n",
    "X_digits, y_digits = load_digits(return_X_y=True)\n",
    "data = scale(X_digits)"
   ]
  },
  {
   "cell_type": "code",
   "execution_count": 19,
   "metadata": {
    "ExecuteTime": {
     "end_time": "2020-05-22T19:58:48.759483Z",
     "start_time": "2020-05-22T19:58:47.063474Z"
    }
   },
   "outputs": [
    {
     "name": "stdout",
     "output_type": "stream",
     "text": [
      "n_digits: 10, \t n_samples 1797, \t n_features 64\n",
      "__________________________________________________________________________________\n",
      "init\t\ttime\tinertia\thomo\tcompl\tv-meas\tARI\tAMI\tsilhouette\n",
      "k-means++\t0.78s\t69496\t0.610\t0.658\t0.633\t0.481\t0.629\t0.147\n",
      "random   \t0.72s\t69805\t0.650\t0.694\t0.671\t0.535\t0.667\t0.155\n",
      "PCA-based\t0.14s\t70791\t0.666\t0.694\t0.680\t0.554\t0.677\t0.133\n",
      "__________________________________________________________________________________\n"
     ]
    }
   ],
   "source": [
    "n_samples, n_features = data.shape\n",
    "n_digits = len(np.unique(y_digits))\n",
    "labels = y_digits\n",
    "\n",
    "sample_size = 300\n",
    "\n",
    "print(\"n_digits: %d, \\t n_samples %d, \\t n_features %d\"\n",
    "      % (n_digits, n_samples, n_features))\n",
    "\n",
    "\n",
    "print(82 * '_')\n",
    "print('init\\t\\ttime\\tinertia\\thomo\\tcompl\\tv-meas\\tARI\\tAMI\\tsilhouette')\n",
    "\n",
    "\n",
    "def bench_k_means(estimator, name, data):\n",
    "    \"\"\"\n",
    "    This function benchmarks time to fit k-means of different sorts\n",
    "    \"\"\"\n",
    "    t0 = time()\n",
    "    estimator.fit(data)\n",
    "    print('%-9s\\t%.2fs\\t%i\\t%.3f\\t%.3f\\t%.3f\\t%.3f\\t%.3f\\t%.3f'\n",
    "          % (name, (time() - t0), estimator.inertia_,\n",
    "             metrics.homogeneity_score(labels, estimator.labels_),\n",
    "             metrics.completeness_score(labels, estimator.labels_),\n",
    "             metrics.v_measure_score(labels, estimator.labels_),\n",
    "             metrics.adjusted_rand_score(labels, estimator.labels_),\n",
    "             metrics.adjusted_mutual_info_score(labels,  estimator.labels_),\n",
    "             metrics.silhouette_score(data, estimator.labels_,\n",
    "                                      metric='euclidean',\n",
    "                                      sample_size=sample_size)))\n",
    "\n",
    "bench_k_means(KMeans(init='k-means++', n_clusters=n_digits, n_init=10),\n",
    "              name=\"k-means++\", data=data)\n",
    "\n",
    "bench_k_means(KMeans(init='random', n_clusters=n_digits, n_init=10),\n",
    "              name=\"random\", data=data)\n",
    "\n",
    "# in this case the seeding of the centers is deterministic, hence we run the\n",
    "# kmeans algorithm only once with n_init=1\n",
    "pca = PCA(n_components=n_digits).fit(data)\n",
    "bench_k_means(KMeans(init=pca.components_, n_clusters=n_digits, n_init=1),\n",
    "              name=\"PCA-based\",\n",
    "              data=data)\n",
    "print(82 * '_')"
   ]
  },
  {
   "cell_type": "code",
   "execution_count": 21,
   "metadata": {
    "ExecuteTime": {
     "end_time": "2020-05-22T19:59:32.786425Z",
     "start_time": "2020-05-22T19:59:32.066157Z"
    }
   },
   "outputs": [],
   "source": [
    "# Visualize the results on PCA-reduced data\n",
    "reduced_data = PCA(n_components=2).fit_transform(data)\n",
    "kmeans = KMeans(init='k-means++', n_clusters=n_digits, n_init=10)\n",
    "kmeans.fit(reduced_data)\n",
    "\n",
    "# Step size of the mesh. Decrease to increase the quality of the VQ.\n",
    "h = .02     # point in the mesh [x_min, x_max]x[y_min, y_max].\n",
    "\n",
    "# Plot the decision boundary. For that, we will assign a color to each\n",
    "x_min, x_max = reduced_data[:, 0].min() - 1, reduced_data[:, 0].max() + 1\n",
    "y_min, y_max = reduced_data[:, 1].min() - 1, reduced_data[:, 1].max() + 1\n",
    "xx, yy = np.meshgrid(np.arange(x_min, x_max, h), np.arange(y_min, y_max, h))\n",
    "\n",
    "# Obtain labels for each point in mesh. Use last trained model.\n",
    "Z = kmeans.predict(np.c_[xx.ravel(), yy.ravel()])"
   ]
  },
  {
   "cell_type": "code",
   "execution_count": 24,
   "metadata": {
    "ExecuteTime": {
     "end_time": "2020-05-22T20:02:21.643445Z",
     "start_time": "2020-05-22T20:02:21.476070Z"
    }
   },
   "outputs": [
    {
     "data": {
      "image/png": "iVBORw0KGgoAAAANSUhEUgAAA1YAAAIaCAYAAAAjsdzIAAAABHNCSVQICAgIfAhkiAAAAAlwSFlzAAALEgAACxIB0t1+/AAAADh0RVh0U29mdHdhcmUAbWF0cGxvdGxpYiB2ZXJzaW9uMy4yLjEsIGh0dHA6Ly9tYXRwbG90bGliLm9yZy+j8jraAAAgAElEQVR4nOzdeZwU5Z0/8M937gMGGCQIaEAwgoJRIzoekagZo3j8ksVVSbLqJJpoNtEYNauJu5GYGE3iFU2MrroBNIKysknwWHUWbxBR4wFKYsQLOWWYaZgLZub5/VFVQ01NVXVVdV3d/Xm/XvOSma6ueqq6wf7M93m+JUopEBERERERUXAlSQ+AiIiIiIgo3zFYERERERER5YjBioiIiIiIKEcMVkRERERERDlisCIiIiIiIsoRgxUREREREVGOGKyIqOCIiBKRfVMwjh+LyN1Jj8MvEZkjIvdFtO8mEXne9P0OEZno8bmet81lTPlERK4TkUuSHkdQSfxdFZH3RaTR47aRvTdE5LMisiyKfRNRMhisiAqY9QOEiMwWkW0i8oUkx5UPRGSuiPw8l30opX6hlDo/rDFFQUSOFZF1SR1fKTVEKbXW77ZhvD5BRBk6/R5HREYBOAfAnfr3x4pInx5At4vI30TkG6btK/T9viMi7fq/D/8lIhMs+50rIj0iMib8Mytcft8bSqk3ALSKyGkRDouIYsRgRVQkRORcAL8DcIpS6pmkx1PoRKQs6TFQwWsC8KhSqtP0s/VKqSEA6gBcAeAuETlAf+y/Afw/AF8DMAzAQQBeAfBF48kiUgvgdABtAP7Fz2D4ng/kjwAuSHoQRBQOBiuiIiAiFwC4EcCJSinbqSf6lJx/1X+bvV1EfiYik0RkmYhkRORBEakwbX+qiLwmIq36Np81PXaliLyr7+ctEfkn02NNIvK8iNygV8/eE5GZlsfX6s99T0S+7jDeUn2qnXGcV0Rkb5vtnhaR803f90/tEc3NIrJZP8c3RWSaiHwbwNcB/Jv+2/8l+vZjReQhEdmij+1i037niMh/i8h9IpIB0GT+DbaITNCv8bki8qGIfCIiV5meXy0i8/Rr8raI/JtbJUlEjhKRlSLSpv/3KMs5/0xEXtCvzRMisofNPmoBPAZgrH6eO0RkrP5whYjM15+/WkSmm57neB1sjjFSRP6iX9+XAEyyPN4/FUzfdom+7UoR+bkMnDaoRGRfl9fnChH5WHZXa74IGx7G9BsR+Uh//BUROUb/+UkAfgzgLP24r+s//4b+mm3X37sXmPa1h4g8LNrfkxYReU5EStyuo9NxbMwEYPtLEqX5E4BtAA4QrXJ9AoAvK6VWKqV6lFJtSqnfKaXuMT31dACtAK4BcK7DcY1za9LfYzeLyFYAc0SkUrS/2x+KyCYRuUNEqk3P+aGIbBCR9SLyTcv+HP+u6t9PFZEn9eu4SUR+rP+8RHb/m7NVtH+r6k3PO1tEPtAfuwou4nxv6J4G8EURqXQbFxHlCaUUv/jFrwL9AvA+gIcAbAJwUJZtFYA/Q/tN91QA3QD+D8BEaL/dfgvAufq2hwDYDKABQCm0D2DvA6jUHz8DwFhov7w5C0A7gDH6Y00AdgH4lv7c7wBYD0AA1ALIAJisbzsGwFSH8f4QwJsAJuvPPQjASNO57Kv/+WkA55ue1wTgef3PJ0L7jf1wfR/7m8Y5F8DPTc8r0bf9CYAK/bqshRZWAWCOfl5f0bet1n92n/74BH1cd+mPHaRf4/31x6+H9iF5BIC9ALwBYJ3DuddD+8B8NoAyAF/Vvx9pOud3AeynH+tpANc77OtY63H0cXcBOFl/ja4D8KKX62Cz/4UAHtRf22kAPjauv81rtVD/qgFwAICPXLa1vj6T9e3Hmq73pIBj+hcAI/VrexmAjQCqTNfmPsv+ToH2AVwAfAFAB4DP6Y9dB+AOAOX61zH6dl7eT/fZjd903C0ADrN7LfX9/xO09+Rk6O8vD/9m/B+AXwEYDaAHwKEu2zbp21ykX6tqADcD+Au09+hQAEsAXKdvfxK0f4um6df+fnj/uzoUwAb99ajSv2/QH/s+gBeh/b2phDY1coH+2AEAdgCYoT92kz7mxqTfG6ZtMgA+G+TfeH7xi1/p+mLFiqjwnQDtQ8ebHrb9lVIqo5RaDWAVgCeUUmuVUm3QKhuH6Nt9G8CdSqkVSqlepdQ8aCHhCABQSi1SSq1XSvUppR4A8A6Aw03H+UApdZdSqhfAPGgBarT+WB+AaSJSrZTaoI/FzvkA/l0p9TeleV0ptdXjNTHsgvYBbQoAUUq9rZTa4LDtYQBGKaWuUUrtVNpan7sAzDZts1wp9Sf9vDvtd4OfKqU6lVKvA3gdWsACgDMB/EIptU0ptQ7ArS7jPgXAO0qpe5VWeVgAYA0A81qNPyil/q6P40EAB7vsz87zSqlH9dfoXtM4vVwHAFpVEVoF5CdKqXal1Cpor/cgpm2vVkp1KKXectrWQS+0D84HiEi5Uup9pdS7QcaklLpPKbVVv7Y36vud7HRgpdQjSql39ffhMwCegBagAO09NgbAeKXULqXUc0opBR/X0cVwANstPxsrIq0APgFwNYCzlVJ/gxYGnN7bAAAR+TSA4wDcr5TaBC1knZNlDOuVUrcppXqghfFvA/iBUqpFKbUdwC9M53QmtPflKqVUO7Qg4tWpADYqpW5USnUppbYrpVboj10I4Cql1DqlVLe+338WbWriPwN4WCn1rP7Yf0D7N8bu/ON+bxi2Q3stiSjPMVgRFb7vQKtc3C0iAgD61C5j6pf5f/KbTH/utPl+iP7n8QAu06c3teof5PaGVqWCiJwju6cJtkL7za95KtpG4w9KqQ79j0P0D1tnQfugtEFEHhGRKQ7ntTe0qkxgSqmlAH4Lbe3ZZhH5TxGpc9h8PPQPrabz+jF2B0JAq5hks9H05w7svqZjLc9329dYAB9YfvYBgHEejuOV9flV+gdVL9fBMArab/bN52Idt9u2Xq4nAEAp9Q8Al0D7UL1ZRBbK7mmNvsYkIpfr07fa9PMbhoHvX1i2nykiL+pT1FqhVfqM7X8N4B8AntCngl2p/9zPdXSyDdovBszWK6WGK6XqlVIHK6UW6j/fCi3guTkbwNtKqdf07/8I4GsiUi4ix5j+zTD/ssN8HUdBqza+Yjqn/9V/Dgx+jzu9F+y4/X0fD+B/TMd8G1rQHm09pv5vjNMvYOJ+bxiGQpt+SUR5jsGKqPBtgrY4/RgAtwOAUmqq0jqsDVFKPRdgnx8BuFb/AGd81SilFojIeGi/ef8etKlpw6FVv8TLjpVSjyulToD2IXCNvi+nMUxyeMysHdqHPcOeluPdqpQ6FNqUof2gTTEEtClK1uO9ZznnoUqpk8278zAeJxugTWUyDFovZrIe2odJs09Dm7bkl98xe7kOhi3Qpl2Zz+XTDvs1tvV6DQaNWyl1v1Lq89CujQLwS79j0n/R8G/Qqisj9PdvG3a/fwccV18b8xCAGwCM1rd/1Nher6xcppSaCK1xxKWirf3Kdh29vC5vQHvPetEM4HAR2ctlm3MATBSRjSKyEdq0uT0AnKxX2ox/M6aanmMe5yfQfgEz1XROw5TWTAPQ3uNu7wW3v6sfQZsuaecjADMt17JKKfWx9ZgiUgOtemcn1veGvs04aFNB/+YwJiLKIwxWREVAKbUeWrg6SURuDmGXdwG4UEQaRFMrIqeIyFBoaxMUtA8pEK3d8zQvOxWR0SLyZdGaKnRDWxthO20HwN0AfiYin9HH8FkRsfvA9BqAWSJSI1qThPNMxztMP4dyaB/qukzH24SBH+ReArBdtAYJ1aI1z5gmIod5OTcPHgTwIxEZoX/Y+p7Lto8C2E9EviYiZSJyFrRg+HCA424CMFJEhnnc3vN10KcRLobW1KBGtO50tg0RbLadAvdpaANeHxGZLCLH6x9mu6B9wB/03vEwpqHQPlxvAVAmIj+Btu7QfNwJojeggPahuFLfvke0RixfMo3rVNEabgi0D+G9+riyXUfrcew8Cm3dTlZKqWYAT0Kr7Byqv2+GisiFIvJNETkS2i8qDoc2bfRgaH9v70f26YDGMfqg/dtws4h8Sj//cSJyor7Jg9CauhygB5yrLbtw/LsK7b09RkQuEa1BxlARadAfuwPAtfovdSAio0Tky/pj/w3gVBH5vGjNd66Bw2efuN8bui8AWKpPUySiPMdgRVQklFIfAjge2tqD63Lc18vQmk/8Ftp0pH9AW2gOfW3MjQCWQ/ugcSCAFzzuugTApdAqMi3QPnR8x2Hbm6B9UHsC2uLve6Atnre6GcBOfSzzoE1vMtRB+yC4DdqUn63Qpm5B398B+vSiP+kfuk6F9oHzPWi/nb8b2lSgMFwDYJ2+72ZoHwhtP2wpbS3ZqdAWz2+F9lv0U5VSn/g9qFJqDYAFANbq52o3fc68vd/r8D1o0xA3Qms48QeX3X9P389GaOu6FsDhGsDy+kD7AHu9Pp6NAD4F4EcBxvQ4tOlrf4f2nujCwKlhi/T/bhWRV/V1RBdDey9ug9bK/C+m7T8D7fXcAe3vxO1Kqac8XMcBx3E4j/kAThZT170s/hlaGHsAWshbBWC6Pr5zAfxZKfWmUmqj8QXgN9CCSb3TTi2ugPbvwYuidcdshr4GSSn1GIBbACzVt1lqea7j31X9Op8AbR3hRmjrNo/TH/4NtGv+hIhsh7amtEF/3moA34UWEDdAe43c7tsW53sD0Lpb3uEyHiLKI6KtoSUiojQRke8AmK2UKtqbOYvILwHsqZRybftdzETkFwA2K6VuSXos5I9ot6i4Uyl1ZNJjIaJwMFgREaWAiIyBNrVtObQqxyMAfltMH5j16X8V0DpYHgatunK+0u7HRERElGq8SzoRUTpUQLv/zj7QOoQthN5spIgMhTb9byy06WA3Qru3GhERUeqxYkVERERERJQjNq8gIiIiIiLKEYMVEVHCROQxEbFt0CAiE0REiXZz3qIhIk+LyPkh7GeOiNyX4z6+LiJPuDx+rIi4dZoLetz3RaTR4bFjRIT3PiIiShEGKyIqCvo9n14WkR0iskEPM58PYb85f3BXSs1USs3LdSwUDaXUH5VS5ntTKf0+S0mO6Tml1GTTmBxDGBERxYPBiogKnohcCu3+Ob8AMBrAp6E1hviy2/NCOrZkuclr4tJUDcuH61XM0vReISJKG/7Pi4gKmogMg3bz3e8qpRYrpdqVUruUUkuUUj/UtykRkStF5F0R2SoiDxo3RDVNxTtXRD4UkU9E5Cr9sZMA/BjAWXol7HX950+LyLUi8gKADgATReQoEVkpIm36f48yjbF/2puIlIrIDfpx1gI4xXI+TSKyVkS2i8h7IvJ1h/M+XESW6zfQ3SAivxWRCtPjSkS+KyLvQLvZKkTkVBF5TX/OMv0+O07XVYnIv4rIO/pYfiYik/TnZfRrWKFvO0JEHhaRLSKyTf/zXpbzH3C9LMcaIyJviIjxeh2hH6dVRF4XkWNN2+4jIs/oY3oSwB4u5/CMiJyu//lo/ZxO0b//ooi8Zrrmz+t/flZ/+uv6a36WaX+Xichm/Xp/w+GYx4nIm6bvnxSRlabvnxORr5iecrB+7m0i8oCIVOnb9U8/FJF7of2yYIk+pn/Ldp1sxrW3iCzWX6OtIvJb07m/ICI3i8hWAHNEZJiIzNe3/UBE/l30MCwi++rXtU1/Dz+g/1z0fWzW3x9visg0p/EQEeUlpRS/+MUvfhXsF4CTAPQAKHPZ5vsAXgSwF4BKaG3PF+iPTQCgANwFoBrAQQC6AeyvPz4HwH2W/T0N4EMAU6Hd1mI0gG0Azta//6r+/UjT9ufrf74QwBoAewOoB/CUfvwyALUAMgAm69uOATDV4ZwOBXCE/rwJAN4GcInpcQXgSf0Y1QAOAbAZQAOAUgDnAngfQKXD/hW0Vuh1+nl2A/g/aKFoGIC3AJyrbzsSwOkAaqC1VF8E4E8u16vcuCbQ2s//HcC39W3HAdgK4GRovxw8Qf9+lP74cgA36a/jDADbra+P6bjXALhN//OPAbwL4Jemx36j/7kJwPOWc9/X9P2x0N5j1+hjPxlaQBxhc8xqAF3QAl85tLbyH+vXpRpAp+l98T6Al6C1n6/XX8MLTcdcZ9rv+wAaTd+7XifLmEoBvA7gZmjvsSoAnzedew+Ai/TXphrAfP21HwrtvfV3AOfp2y8AcJV+TPN+TgTwCoDhAATA/gDGJP3vA7/4xS9+hfnFihURFbqRAD5RSvW4bHMhgKuUUuuUUt3QwtI/y8BpTz9VSnUqpV6H9iH0oCzHnauUWq0f90sA3lFK3auU6lFKLYAWnk6zed6ZAG5RSn2klGoBcJ3l8T4A00SkWim1QSm12u7gSqlXlFIv6sd7H1pY/IJls+uUUi1KqU4A3wZwp1JqhVKqV2lrvrqhhTMnv1JKZfQxrALwhFJqrVKqDcBj0MIalFJblVIPKaU6lFLbAVxrM5b+66WU2qX/7ABowfJqpdR/6j/7FwCPKqUeVUr1KaWeBPAygJNF5NPQbiz8H0qpbqXUswCWuIz/GdM4ZkC71sb3X9Af92oXgGuUVg19FMAOAJOtG+nXeqV+vEOhvZdeAHA0tGv9jlJqq+kptyql1uvvhSUADvY4HsfrZLPt4dDC2w+VVtHtUko9b3p8vVLqNv29vBPAbAA/Ukpt199bN0L7pYFxHcYDGGvZzy5oQWwKtFu9vK2U2uDxXIiI8gKDFREVuq0A9hD3tSHjAfyPPmWqFVploBdapcmw0fTnDgBDshz3I9OfxwL4wPL4B9CqClZjLc/tf55Sqh3AWdCC4AYReUREptgdXET206fcbRSRDLT1ZdZpcebjjAdwmXEN9Ouwtz4eJ5tMf+60+X6IPpYaEblTnzaWAfAsgOEiUuowFsPXoVVz/tsyzjMs4/w8tOrdWADb9OtksF53s+UA9hOR0dACy3wAe4vIHtDCxrMuz7Xaagnvbu+RZ6BVnGbof34aWpCzC3N+33cGt+tktTeAD1x++WB+bYxKm/m6mt/L/watIvWSiKwWkW8CgFJqKYDfAvgdgM0i8p8iUufxXIiI8gKDFREVuuXQKi9fcdnmIwAzlVLDTV9VSqmPPezf6S7r5p+vh/ZB1+zT0EKD1QZoH3TN2+3eqVKPK6VOgPYBeQ20KYp2fq8//hmlVB20qW7iMsaPAFxruQY1enUtV5dBq9406GOZof/cPB676zgHwCcA7jeFsI8A3GsZZ61S6npo126EiNSa9vFpOFBKdUCbnvZ9AKuUUjsBLANwKYB3lVKf+D1Rj6zByqic+a2SmVmvn9t1svoIwKddfvlg3vcn2F2VMvS/l5VSG5VS31JKjQVwAYDbRe+gqJS6VSl1KLRK5H4AfujzHImIUo3BiogKmj4t7ScAficiX9GrJ+UiMlNEfqVvdgeAa0VkPACIyCgR8doxcBOACeLeye5RaJWRr4lImd7w4AAAD9ts+yCAi0VkLxEZAeBK4wERGS0iX9aDQze06WZ9DsccCm091g69qvWdLOdxF4ALRaRBbzRQKyKniMjQLM/zYii0ClaraE1Brvb4vF0AzoC27me+fo3vA3CaiJwoWqOPKr2Rw15KqQ+gTXf7qYhUiNZO3266pdkzAL6H3YHmacv3djbB0mDDp2XQgubhAF7Sp1KOh7a+zU+VzG1MjtfJ5rkvQQul1+uve5WIHG13EKVUL7T36LUiMlT/O3OpfjyIyBmmY2yDFsr6ROQw/b1VDqAd2jozp/cuEVFeYrAiooKnlLoR2oe/fwewBdpv6L8H4E/6Jr8B8BcAT4jIdmiNLBo87n6R/t+tIvKqw/G3AjgVWuVmK7TpUqc6VETuAvA4tLU3rwJYbHqsRD+P9QBaoFU4nALT5QC+Bq15w10AHnA7CaXUywC+BW261jYA/4DWuCAMt0BrevAJtGv7v16fqFeRZkGblvlf0CojX4ZWgTNeyx9i9//PvgbttWuBFuDmZznEM9CC37MO39uZA2CePsXuTK/nYtCnKr4KYLV+foBWWf1AKbXZ7/501wH4d31MlyulPoL7dTKPpxdaAN0XWhORddCmnDq5CFo4WgvgeQD3Q3ttAG2N2woR2QHt79T3lVJroTU5uQvae+sDaH8Pfh3wXImIUkmUcprFQkRERERERF6wYkVERERERJQjBisiIiIiIqIcMVgRERERERHliMGKiIiIiIgoRwxWREREREREOXK6GaCtusoy9akh5VGNJRXK6yclPQQi8mnrxh1JD4GIiIiKxJYdH3yilBpl/bmvYPWpIeW46cQJoQ0qnXox5quLs29GRKky99fPJz0EIiIiKgK3P/ftD+x+zqmANjYsmIUNC2YlPQwi8qHph59PeghERERUxBisXDBcEeUXhisiIiJKCoNVFgxXRPmF4YqIiIiSwGDlAacGEuUXhisiIiKKG4MVERUkhisiIiKKE4OVD6xaEeUXhisiIiKKC4OVTwxXRPmF4YqIiIjiwGAVANdcERERERGRGYMVERU8Vq2IiIgoagxWOWDliih/MFwRERFRlBisQsBwRZQfGK6IiIgoKgxWRFRUGK6IiIgoCgxWIWHViih/MFwRERFR2BisQsQ1V0T5g+GKiIiIwsRgFQGGK6L8wHBFREREYWGwigjDFRERERFR8WCwihCnBhIRERERFQcGKyIqapwOSERERGFgsIoBq1ZE6cZwRURERLlisIoJwxVRujFcERERUS4YrGLEcEWUbgxXREREFBSDVcwYrojSjeGKiIiIgmCwSgC7BRKlG8MVERER+cVglSCGK6L0YrgiIopW567t+Ou6x9G5a3vSQyEKBYNVwhiuiNKL4YqIKDprNi3D8vcewppNy5IeClEoypIeABEREREVnymjjxrwX6J8x4pVCnDNFVF6sWpFRBSN6vKhOGSvE1FdPjTpoRCFgsGKiIiIiIgoRwxWKcLKFVE6sWpFRERE2TBYpRDDFVH6MFwRERGRGwarlGK4IkofhisiIiJywmCVYgxXROnDcEVERER2GKxSjuGKKH0YroiIiMiKwSoPMFwRpQ/DFREREZkxWOUJhisiIiIiovRisMojbMdOlC6sWhEREZGBwYqIKAcMV0RERAQwWOUlVq6I0oXhioiIiBis8hjDFVF6MFwREREVNwYrIqKQMFwREREVLwarPMeqFVG6MFwREREVJwarAsA1V0TpwnBFRERUfBisCgjDFVF6MFwREREVFwarAsNwRUREREQUPwarAsSpgUTpwKoVERFR8WCwIiKKEMMVERFRcWCwKmCsWhERERERxYPBqsAxXBElj1UrIiKiwsdgVQQYroiSx3BFRBSOzl3b8dd1j6Nz1/akh0I0AINVkWC4IkoewxURUe7WbFqG5e89hDWbliU9FKIBGKyKCLsFEiWP4YqIKDdTRh+FI/c5HVNGH5X0UIgGYLAqQgxXRMliuCIiCq66fCgO2etEVJcPTXooRAMwWBUphisiIvKC61mIiLxhsCpiDFdEyWHVivIF17OEi0GVqHAxWBU5hiui5DBcUT7gepZwMagSFS4GK2K4IkoQwxWlHdezhItBlahwMVgRAIYrIiKiODCoEhUuBivqx3BFlAxWrYiIiPIfgxUNwHBFlAyGKyIiovzGYEWDMFwRJYPhioiIKH8xWJEthiuiZDBcERER5ScGK3LEcEWUDIYrIiKi/MNgRa4YrogoH/EmrEREFDcGK8pqw4JZDFhEMWPVKje8CSsREcWNwYo8Y7giihfDVXC8CSsREcWNwYp8YbgiihfDVTC8CSsREcWNwYp8Y7giihfDFRERUfoxWBER5QGGKyIionRjsKJA2NCCKH4MV0REROnFYEU5YbgiihfDFdFubKtPRGnCYEU5Y7giIqIksK0+EaUJgxWFguGKKD6sWhFp2FafiNKEwYpCw3VXRPFhuCJiW30iShcGKyKiPMVwRURElB4MVhQ6Vq2I4sNwRZSf2HiDqPAwWFEkGK6IiIicsfEGUeFhsKLIMFwRxYNVK6L8w8YbRIWHwYoixXBFFA+GK6L8wsYbRIWHwYoix26BRPFguCIiIkoOgxXFhuGKiIiIiAoVgxXFiuGKKFqsWhERESWDwYpix3BFFC2GKyIiovgxWFEiGK6IosVwRUREFC8GK0oMwxVRtBiuKAy8kS0RkTcMVpQohisionTjjWyJiLxhsKLEMVwRRYdVK8oVb2RLROQNgxWlAsMVUXQYrigXvJEtEZE3DFaUGgxXRNFhuCIiIooWgxWlCsMVUXQYroiIiKLDYEWpw3BFRERERPmGwYpSieGKKBqsWhEREUWDwYpSa8OCWQxYRBFguCIiIgofgxWlHsMVUfgYroiIiMLFYEV5geGKKHwMV0REROFhsKK8wXBFFD6GKyIionAwWBERFTmGKyIiotwxWFFeYUMLomgwXBEREeWGwYryEsMVEREREaUJgxXlLYYronCxakVERBQcgxXlNYYronAxXBEREQXDYEV5j+uuiMLFcEVEROQfgxUREQ3CcEVEROQPgxUVDFatiMLFcEVEROQdgxUVFIYrIiIiIkoCgxUVHIYrovCwakVR6dy1HX9d9zg6d21PeihERKFgsKKCxHBFFB6Gq/AxVABrNi3D8vcewppNy5IeChFRKBisqGCxWyBReBiuwsVQAUwZfRSO3Od0TBl9VNJDISIKBYMVFTyGKyJKG4YKoLp8KA7Z60RUlw9NeigUEVZmqdgwWFFRYLgiyh2rVuFhqKBiwMosFRsGKyoaDFdUzFoz23Dv4nvQmtmW034YrojIK1ZmqdgwWFFRYbiiYrWkeTFum3sjljQvznlfDFdE5AUrs1RsGKyo6DBcUTE6rXEWLmq6DKc1hvP+Z7giIiIaiMGKihLDFRWb4XUjcPas8zC8bkRo+2S4IiIi2o3BiooWwxUlKaw1T0ljuCLKX+zaRxQuBisqagxXlJQw1zwlqTWzDaWT/sYPZkR5iF37iMJVlvQAiJK2YcEsjPlqfn+4pfxjrHUKa81TUoyAeOQ+p+OQvU5MejhE5IPRrY9d+4jCwWBFBIYrip+x5infGcFwx5qxCY+EiPwyuvYRUTg4FZBIx2mBRP4ZAfE7P56Z9BMDuhgAACAASURBVFAoj3BtDxEVIgYrIhOGK6Lg2MiCvOLaHiIqRAxWRBYbFsxiwCIKiOGq8ERRXZoy+igcuc/pBbW2h1U4ImKwInLAcEUUDMNVYYmiumSs7akuHxraPpPGKhwRMVgRuWC4IgqmkMNVsVUmCrG6FAVeJyJisCLKguGKKJg0hasww1CxVSYKsboUBV4nImKwIiKiyKQlXHkJQ17DFysTRERkh8GKyAM2tCAKLg3hyksY8lqJYmWCiIjsMFgR+cBwRZQefqb3eQlDrEQREVEuGKyIfGK4IvIviqpV2GudWIkiIqJcMFgRBcBwReRf2OGKFSaidCm2jplEVgxWRAFx3RWRf2GGK1aYiNKl2DpmElkxWBERUazS0MyCiMLHKjIVOwYrohyxakXkH8MVUeFhFZmKHYMVUQg4LZDIP4YrIiIqJAxWRERUNLi4noiIosJgRRQiVq2I/Im7asXF9UREFJWypAdAVGiMcDXmq4sTHgkRWRmL6rm4vjB17tqONZuWYcroo7jOh4hix4oVUURYvSLyxm/VKpfpfFxcX9hYkSSiJDFYEUWI4YrIGz/hih+eyQnbfRNRkhisiCIWJFy1Zrbh3sX3oDWzLYIREaWT13DFD8/JOeDwvSLdPlesSBJRkhisiGLgN1wtaV6M2+beiCXNXKdFxcVLuOKH52QccPhe+O4NM3H6RUd42v70i47Ad2+YGXu4IiJKCoMVUUz8hKvTGmfhoqbLcFojpxIWA1YoB+L9rdLprZfWYemiN3H8GQdmDVenX3QEjj/jQCxd9CbeemldTCMkIkoWgxVRjLyGq+F1I3D2rPMwvG5ExCOiNEhThTItIc8pXBXqfaiiOq+w9/vQbS9mDVfmUPXQbS+GclwionzAdutEMWM7drIyKpNpqFAaIQ8Azp51XqJjafrh5zH3188P+JnRuAIADtnrxCSGFQm78wqjdXgU18sIS8efceCA7wGGKiIqbgxWREQJMyqUaZCmkAcMDleFeh8qu/MKIxRFdb3swhVDFREVO1FKed5435HV6qYTJ0Q3GqIiw6oVUXbWqlWxyIeb3RphysBQRUTF4Pbnvv2KUmq69edcY0WUIN7niii7r1wwtSDXVWVjdD8EkNrzt4YohioiKmYMVkQJY7gicrekeXFR3xA4zTdEtjaw8NqKnYioEDFYEaXAhgWzGLDyRFq65qVJ1NfEuP3AT392aST7j0vQDn1pvSGyeU3Vd2fc5bkVOxFRoWKwIkoRhqv0S1Nr9KDCDkJRXxPz7Qfy+R5Xb65/Csvfewhvrn/K1/PSeENku0YVXlqxExEVMnYFJEqZDQtmsalFiqWta14QYbdUj/ua2LVhp/i4df9za8Uelnxo6kFExYnBiiiFGK7SK02t0YMKOwglcU3yMVwdOPY4lJdWpm5Knx9eWqpHHa4K9V5mRJT/GKyIUorhiqLQmtmGJc2LcVrjLAyvG5H0cIqKuctfPjrg8L0836fKHK7eXrEOb720LrRxFOq9zIgo/3GNFRFRESmENWKGNK+3CtqoIs3eemkdfnf5Y54rUA/d9iJ+d/ljoYYqIJ1rzogouEL695LBiijF2C2QwmZ02MvnNWJRCut/8Gluke6X+Zr4DUl22xfShygnxXCORGEppH8vGayI8gDDFYXF3GGvEIRdtQrrf/BpbZEeRNgfegrpQ5STYjhHorAU0r+XopTyvPG+I6vVTSdOiG40ROSKa66I7IXVyIId5wYL+5oUwzU2znFC/WfxfssbBX2uRMXo9ue+/YpSarr156xYEeURVq7Iijcs1oRVueL6ncHCvibFcI2Nc3y/5Q1WroiKCIMVUZ7huisyK6RmFLlKczMLKk6FNMWJiLJjsCIiymOF1IwijOpbtnDFpgIUp2KozhHRbgxWRHmKVSsCCqsZRVjVN7dwxaYCwTGUEhG54w2CifKYEa7Y1IIKgVF1C6P61vTDz9s2tODNZYMzQimAvL7RMRFRVFixIioArF5RIQhSfXObPmhXueLUrOC4XoiIyB2DFRFFoli61RXLeUYpl2sYZvMOTnVzx1BKROSOwYqoQKStW2CxdKtL43nGHfZyPV4u1zCX5h3WIBXl+iuGNiKiwsc1VkQFZsOCWalYcxXmepk0S+N5GkEFAM6edV6o+27NbMOS5sU4rXFW/5S9XI+XyzU0pg86cVprBQxeM5TL+qtsN73l+iQiosLHYEVEkcj2gbdQpPE8owx7diFqRsPxeHXVSsxoOD7QPqO+hl4bWRhT3YLIFpzYNIOIqPBxKiBRAUrbtEDKjd+pdn6bQFj373a80xpn4fzZ30FnV2f/48+uWIoXXn4Wz65Y6vGM4hd1I4tsjR24Pik/cMomEeWCwYooZpnuHix+eysy3T2RH4vhqjBEvY7Lun+34w2vG4HqqhrcvfD2/sfz5SbF2W4enAsGp8LA+5wRUS44FZAoZs1r2zDvtS0AgFn7j4z8eGlZc0XBRb2Oy7r/bMezPp7G6ZBO3NZcEeU6ZTPbWjsiKmyilPK88b4jq9VNJ06IbjREIch096B5bRsaJw5DXWX6fneQ1PiKPVzZNV2g4lVM4SqsD/sMDdn9dd3jWP7eQzhyn9PZpISogN3+3LdfUUpNt/6cUwGp4BgVoea1bUkPxVZdZRlm7T8y9tBX7Ouu0tgW3U6x3RcrqfONclpg2oQ1vY3T5LLjTZSJihuDFRWcxonDcO7Bo9A4cVjSQ0mlYg1XMxqOx9HTZ2TtXJd0sMmXABiWYjtfr8JsohDWh32Ghuy41q64sNkJWaVvnhRRjoyKEJGZ0bnuc9MOc10PFOU9oLxI432xopTk+aZ5vVWY973KpY18FPshKhS8Px1ZcY0VUZGKcs1VGtczeR1TGscetTjO2XwMAKm6xmkMV1zPRJR+/HtavLjGiighcbZX9yPKKYFRTu8KOlXP672d/N4DqhDEMR3PfIy0Tf9L43orTikjSj/+PSUrTgUkiljc7dX9MMJV2NWrKKd3JT1VrxDFMR3P7hhpmu6Y5mmBlA6sThBRNpwKSL6kvZV5GuXLNcuXduzFOFWP4sNwRU7YSp2IDJwKSKFIeyvzNEqqvbpf+dItsJCm6jlNa0y6M6FV2sYTpTROC6R0YFdEIsqGwYp8YSvzwpbGcFXIH+qd1hqlbQ1S2sYTBfP7rNDCFVtCh4PraYgom3T/Cp1Sh63MC9+GBbNSNS2wkNdUOa1tinLNU5CplMXQAt76PiukNVdsCU1EFA8GK6IEpH3dVZrCVSF/qDemNXr9eRiCBNUox5MWubzP0t7UwJi6xilsRETR4lRAogBybaGeD2vV0jItMN/WVKV96uJpjbNwUdNljgHCOv60n09YcnmfGRWhNZuWRTCy3HEKGxFRPBisiALINRjly1q1tISrfPhwb4zxwYf/GOt6JL/XJluAsK6nclpflQ+vSa68rrViUwMiIgIYrIgCyTUY5UunQCAd4SofmifsnmKncFHTZZjRcHwswSPbtfEbgKwVrRkNx+Po6TMwo+F4X8eNS9QBz0u4SltFiM0qiIiSkf5PdUQexL1mqViaePRf17n/D5Ob/pLYOPJhnZV5jMPrRuDexffE0nQj27XxuqbK3NTCvN2zK5bihZefxeemHTbg52l5TeJobuK3kUXSa67YrIKIKBkMVlQQjKl5AIoi8NgJGi7dnme+rnV65SqJphb50DzBPMbWzDZ0dnXi/Nnf8Rw8gt74ONu1mdFwPF5dtXJQxcnKKaA4Bai0vCZxBTw/4SrpYMNmFUREyeBUQEpcro0ggPxZsxSloOu+3J6XT9c1TWt+ljQvxt0Lb0d1VY3nkOQ2tS6XczMqTs+uWOq6nVNTC/OarDRdY4N1zViUYzxpfitOmt+adbuk11ylbWoiEVGxYMWKEhdGtalYpua5McKP3xDk9jy765qmVuxmabrfVZAqittzcjk3r2PxUoEKOg5rNS5odc7LMTq7OnH3wtt9j9HNxgMfHvC9OVz97znDB21vBBsiIiouDFaUuKCBgAaKM1xuSHBaoJO0rPkBvIUUa7j49KS9cHbdef0VF3PosDu3ulG1yGxpD2UsXgW9xtZAFkUINvZ5/uzvuLaT98MaqOxYK1h2QYuIiIoDgxUljtWm7KJszpFLxTDs6lUulYy0rPnxyhwuvnvBxZh8xKexcW0L7v3Z4KYX1nPbe+po7DmxHn978cMB4SqKSpBZ0GtsDWRRhGBr85BceQlVdrJVs4pF0g08iIiS4OsT2kcVe+Hi8TcAAG794PJIBkREg0XZnCPXimGY4SqMSkbU4SKsMZiDQGZLOzaubcGeE+tx2RWXDnjcyghVG9e2DKpYGdevs6sT1VXViV4DM2sg8xvQvFzPsIJ10EBlp5irWUk38CAiSkLgX31fPP4GhiuimEQ5XTKMimFY4SqMSkbSa61aM9vw01t+hBdeftZ1DNYg8NHqTQCA8VPG4sf/8eP+783MocruceO6dXZ1pGa9mVWQ4BvXaxpmqLJjBC1zwCrUyg47ExJRIbrtmtUAgNuPs388pzlFrF4RxSMfpkuGEa7CqDokvdZqSfNivPDyszj8oCPR2dWB1sw2zwHio9Wb0L2zC+OnjEX3zi5sfmd3p8ZsoQrYff1aM9tQXVWTivVmVkFCkteW8UFFHaiszJWs645fUZCVHTbwIKJ8Y4SmXISyWMMIWABDFhGFy2+FI+m1Vuaq0d0Lf4/qqhpf47nxlzdh4kF74ZJLLkFlRRU+Wr3JU6gyy/UaRDmdMkjwdbpJcRjsQlWmpR3Ni1ai8YzDUFdfG+rxrL7739MweVEnGs+Yhrr61ryeLlio1Tciyn9hhCYvQm9ewSoWUfHKtVug3Qf6pKf2+ZVr1ei0xllY0rwYH6xZj/FTxmLPifUA4DlUhSHKax4k9EVVhXSqVDUvWom51z8KAJh1wbGhHtOqrr52wDH8NL9IW5DhuioiiltcgcmryLoCMmARFa+g0wLtPtB7+VAddoUljP0FrRoZz9v8ThvGTxnb//O4QhWQ/HRKq7CrkH8f94BWkRpnX5FqPOOwAf9Nit3NiM1hK21BhuuqiChMaQtNXkTebp3TBClJUbYpJ3dBwpXdB/o4b1yb6/78HsfN3lNHD/o+jHAVV4e9NHRntDIqVM13ulekrFWkNDGHrc6vpivIcF0VEXmRj4HJq1g/aTJkUdyibFNO9sxhFj6nBgZtw200Ncj1xrWGsCs2foOadU2V8T2Qe+UqrqmVaZrCaZ3yl5aKVK7+aUEvgAYAvQDye30WERWGQg5NXiT2K3y2a6c4RNmmnOzZhdmwbyRsyPXDu1OACnvqmfk42So5do0qjP/6DVd2x4prml9aphParaNKc0UqF7w5MRFFqdhDkxeilPK8ceWYz6gxTbdEMhCGLKLC4Db9MuxwFWS6WdApamFMbTPf4+qipssGhbds3f/8dge8d/E9uG3ujbbHKnRxt1BPu1yDVhKNMtLWnIOoUDEw+Vd63G9eUUpNt/68JInB2DFPEySi/GXccyuONW1GZclP0DGqXEua/YU8v89rzWzDvYvvQWtm24B9vPDyszh6+oxBlRwvoemj1ZuwcW0L9pxYP2gNlp3TGmfhoqbLfFeN7Mbu9vO42B3f7mcMVYPZNcLww2iUsWbTspBGlM5jEhWD265ZPeCLwpOq1fzsJEhU2KKaEuhH0Clqfp+XrcOhOQzWjar1XIkyTwts27wDmS3tjtsGndLoNMUy6XVTdsc3/+yEq7OHzWJmDVd+qlhJdPxjl0Ei/xiUkpWaqYBOGLLITVhd/6LuHsjuhAMlHa6souhg53efdaNqXUNSrtv74TT2pDv92R2/NbMN96+6Npab+RYyrsmifFKM00QZmNLFaSpg6oOVgQGL7Cx+eyvmvbYF5x48KmvXP7dw42c/UY+zmHgJWObOf8+uWBrJh3ova5GSDhW5yOexA+7j57S/aDBo5a9iCB1/Xfc4lr/3EI7c5/SCafHP4JRfnIJV3vzqnK3ayY6frn9urdej7h7I7oT2vEwNNKZ6vbpqJV54+VkA4U9D8zLNL+lpcLlIauxhBTq78ecaqDIt7dpNgous0uX1vHOZNkjJStuNo6OQT9NEGZiKS94EKzOuxSKD0SjBC7dw42c/QUS9/3yWLVwZYWdGw/H43LTDImnf7WUtUlrahwfhd+zWQBQ0IIUV6MzjD6tC1bzI/SbBhSroebOVe/7Ip9ARVFpuRs3QRFZ5MxUwG4YsSpOga6qiWosVxn6jXicW97qrfJ8eFyXr1MigbdvDvMZhT/krpoqV+VwBOJ530GvCoEWFhoGJssn7qYDZsIpFcXMLGm7TDt0EfV4c+41qbIa4Owbm89S+qFkrXEGrdWHdaDmKdVSFepNgO9YqldN5G9utWrEWl9xwludwxWoW5ROGJopSwQQrAwMWxSWKNVthrsUyB78w9hvHOrEow5W1epLPU/uiZlwf8/VKInyyMUU4jEqV8V+37VatWIuXn1qD5kUrAwVPu/tlMWxRXBiaKGkFMxXQTbGFLLb2jkfar3MSnQjDmnL4Ut2XQ5+iZ0xnO3r6DFx9yXWB9h3W1DY/nQ79HtPrvrPtN+j0v7AwVCUj6imSbiGrGLrZUTAMTJQ2BT8V0M3F428oqnAV9ZQt0qS9IUUSnQjDm3IY/hS90xpn9XcWXNK8ONQb5wbdj5dOh9mOaQ1IXvedbb9JVvQYqsLnNTDZTZEMM2wZFS27gFUM3ezIGwYpyldFEayA4poiGPYH6rRXZsheEsEvzCmHh2f+DCC3YGUNHVdfcl3/90GYw0Yu1Ss/nQ6zBRxrQPK672z7TWL6n12gKrQmE1GdT7b95tIFMYoOinbrsoqhmx0xNFFhK7pPycVwP6ywP1CzAhYOrwE17CAbZzAO471n3keua66socMcFoIEI/Pzjalyxr79MO8n23OtASfbWjE/+04LtwpVobVFj+p8su238YzD0NWxE12dO5FpafcV6ryu0XLjFvwGrstqwP+ew2mA+YiBiagIg5VZMVWxcpGGm9sWQtXMa0ANO8iGvb+4X4sNC7TAECRguVVlcp3Wl9RUObewmMt+kpJt2l8YH+rTJKrzybbfuvpaVNVUYO71j6KqusJXqAujg6I1+HkNWmx8kQ4MTUTeFEXzCq8YsNIriUYMYSuUilVSr0XY3QLz9T5WYTfQMIJh3NeiUNdRpXnqYpJjsx578Z1PY+71j6LpypN9hTZr0GLDi9wxNBH559S8gsHKAUNWuhRCxapQJPlaxH0TYb+ChJ6gQSnMYBhnB8BCDVSGoIHBLM3hLCxhnOP/njMcf133OJa/9xCO3Od0NrywEWdo+qStE3MfewtNMw/AHsOqYzsuURKKuitgEJwmmF2+rd2xijsgFEo4TLIbYi7TAp2EGVCCTK8LOiXPeF5nVyeqq6oDj781sw2dXR04f/a/Rjqt0WugyvdQEcZUv0JbV2YnjOmFJ81vxVEt0zB5UScaz5iGZZeEM7Z8kMYq09zH3sIVdz4PALh89qGRH49BjtIofz/dxaQYml0EFUdTiyjDSJjj9zJO43hdPX2oKitJTcCKOvBFsf8wbyQc5lqjIOuugq7VMrbv7OrwPf4PPn4Pt9zzS1xy3hV4dsVS3L3w97io6bLIpgH6qVIZoaKrYyeqairyLmCFERgKbV1ZlMzX23pz4nxdn5XG0ORF08wDBvw3anEHOSIvkv9Ul0dYxRoojqYWXsJP0A/uYY7fGOeqzR245IgxtuMwjtPd05eqLothBUyn1yGqAB5WuAqzCUWQRhJBm08Yz2vNbEN1VY2v8d9yzy/773F19SXXAYimCUeQaX9GmOjq3FnwVRsnTuEs36t5cUtjE4x8DU1e7DGsOtaAE3eQI/KCa6xyxJAVLS+hKQ2NLTLdPbjlxQ14ZX171nGkbUpgWONxeh2iOF/zPic3/cVxuygaVOTLPt2YK1bjx+0T+v7DWEdlDhEAIg0UcR4rF2Gs3yJNFEGrkEMTEQ3ENVYRuXj8DQxXEfKynicN7eDrKstwyRFj+j/sm1mDRZJrlOyENR6n16GusgyNE4eFGq7MVbA6l8pVFC3Fo9xnZ1dHf/UpyoA1ftw+uPknd0Sy77CaU5irNkagAIJVr/zcPBdAaitlnCIYnpPmtwYOVwxQROSEwSoEnCKYrLQEFadxxH2DZS8VoiBVpGzPcXsdwr4GXsN0kGl+2apHUdy/avd6qc7Y7y0VVrUsym5/QQOFEai6Ondi4W+aATjfPNe6/zSGlzDWb9FuTmuyGJyIKChOBYwAA1bhyWU6W5RT/+z27WVq5II3t2Dhqq2YPW0kvnrgKE/H8jvl0jw2ALFMfwxjzVWurceNoDKj4Xg8u2JpLK3Xc3l+GK3W09pC3ah0zb64MTWNMLhOKp1Oef/jpIdARHmEUwFjxE6C6RYk6ORScYmyomY3Li/VHGX5rxd+p1xax+bnGgQNo2E0tMi1ImVM63t11cr+BhFeA0vQRhbWY/s5Zi7nm6ZAZRdYzJWotISYYmilnm8YqogoLKVz5szxvPHPb7xtztCDT4puNAXoseFfwmPDv4SZbU8kPRTSPfLONsx7bQvqKkux/6gaT88ZV1eBuspSNE4chsqyEsftMt09eOSdbRhXV+G6XVjsxlVZVoL9R9W4Hn/88ErUVZbipH2Hex6nl/1mG5sdu2sW5DUy7Fj1AIYeeJav55hVVVbjoP0/h6rK7PdFac1sw6JH7sf4cfv0bz9+3D4YXjcCZ512NvYcNQYzGo7HkubFA7bxw3yMru4uzH/obrzy5kpMGv+ZQfszjn1a4yzPx7Ker905WW088GHsGP133+cSpUfmL8Pc6x9FXX0t9p8+AQBQWV2B/adPQGV1RbKDMxk3cRTq6mvReMZhkY4r09KOR+Yvw7iJo1J1/mnDUEVEQVwzb8WGOXPm/Kf156xYxYRVLH+inD4XpNmFW9XJGGvDuCG456+b8cr6dgDxrKcKWg2LY12al2tmNLUIUnVzY72RcLbpeUGn4NlViMxVp7Nnndc/1c68jR/mYwDA3Qt/DwCorqoetL9cK17W41n3leab/IbZ2CHK8ce1ToqVMXcMVEQUBQarBLDZRXZRNnwIO1SY72H1yvp2HDq21lcgSFv79TiYX1+7EOX0Gvm9VsbUwGzT84J2+vMyjS7XqYXW53d2dQCQSO47ZXc8vzIt7bjl8gfw8lNrAMT3oT7MwFIIoYQdBImI4sfmFSnAgDVY2sKG23jMFasVH+8YtE22c/HaFCJt1yQXQc/FfK2sLdzd9ll9yj2hVazivudUGvhZS2U0jJh+3BRccsNZqVnb5AcbTBQuVqqIKAxsXpFinCY4WFpaqBvcKmjmsc6qq3R8bndPHyrLSgZ98Pc67S3utu1AdGEu6OtrvlbW6+F2fazT86z8TKEL6z5WuQS0uMJdkOYUYTeMSCLksK15YWKoIqKoMVilDG84nE7W8OMncBjP6erps/3gny1kmCti5v3FIYkw58Z8rayviVtADaNboCGs+1h5DWh2ISqKmxRbBe34F3YoiWpaHqtSxYWhiojiwGCVQqxgpY81/HgNHNZ7OVXpFSs/cgk3fitO1u1zbSIRJetrki2gblgwC597Zgc23JFbh06jutWa2YZ7F98TuGrkFNCsQcouROUS7rJVu9LUQh0YvFYoWyBye9x4rKFxKu65dkns68AoGQxVRBQXBquUY6OLdAo6fS/X6W9+Pfz3bXhg1VZ09fThax5uBGwdr11Yyde1Xp97ZgcAYMyFX/L1PKcglmvVyGn6oXW/diEql+5/TuNuzWzD/auuReO4dFVwrBUwo4LV1bHT9qa/bhUu47FVK9bi5afWYPpxUwY1dwi7kpXr/lhZC46Biojilj+fioocA1YynEKE1zVCYVR8cllvJpb/ZmMer/Xcje+7evrwwKqtANIxPdALI1TZaentxYOdHTizugb1paWDHncKYuf39qKubhjOfOx+1D/xAADnEOaHNUiFVSFz2j+gVamMphOAewUn6Q/6RhDq6txpO163Cpfxs4bGqZjWMNH2HMKaemgct6tzJxb+pjnw/uLsUJj0a0tElO8YrPIMpwnGK9c1Rkk14TBC0Izxdf0NM7w+xwhSRge+VZs7cMkRY/qvxUGja3DWtJGRTw+MqzL2YGcHrs20AQAuHDLU8/PqS0tx4ZChaOntxU3685u+9UXbcGYX3pxCWLZKVmdXB6qramwDlpemFub9m6f9NTROxaoVa9HQONX1vONuRW79sG9UsDIt7aiqrhhUcXKqcBnjNR6bNcl+7GG1KTeOO/viRjRdeXLg/cXZNr0Q2swDrFQRUXIYrBLW29GGHW82Y8iBjSit8fdBlVWs6KVtjVGmuweb9vwcRm981TVsmAPhBWd9GVveeD7rvh/5+zYsXLUV3T19+OqBWjtz495cRsAxvj94TG3k0wDDapzhVq0CgDOrawb8168HOztw847tAICakhLbcGYX3qyVMCN8nVBZhSe7uwaFsN33sep0nILodXqi3TqqFc2r8fJTazCtYaJj6ADivz+S04d9tyYZdlUqr+MNq/lGWN0R4+xQWAj3vmKoIqIk8T5WCWtb8RBan/oDhh/3DQxrOD2nfTFgFS6jejO54Vj86I4H8cQf70TXI85/F43tr/jZr7D/qU1Yfv23soar+9/cggdWbcVBo2tw+dFjbe8NFef6qlwbbwDZQ1UYWnp7MbddO05T7RDPFSurO3Zsx7WZNhxfWYWl3V24qm6YbUhz21dLby/unvk114qVU3OKtE4DMzecWNG82tP4jGmNTVeenNeVF/KOgYqI4uR0HysGq4TlUrFyw5AVrbgbOBjT8mZPG4lvXHktvvT1C/DuY/Ox+t7rHJ8z9ewfYdLMc7JuZ8h09+CWFzfglfXtrjcrDnLucVwv642W4whVYXKrWIXlry9cHOr+4uQnY/5ZkAAAIABJREFULKU1JFI0GKqIKG68QXBKldYMy7lSZSdt0wTztZOck7jv72Sektj1yC14t74ak2aeAwC2ockcqpbf/TNP176usqx/LZXb1Mcg5x7H9TLGfOmGMtRvDidUeak0hcVYswUAk8rLIznGIUffmlO4SjKw+Jmmxhv8FgcGKiJKm/z/hEuu0tLsIm03ms1V3GuvrE0wjDBlF66slSo/195Ls40g5x7H9aqrLMPPN1cCIeafoI0tkhJ1EEyyuUG+hyU/oTSXAMtqHRFRckqSHgDFxxyy4tY4cRjOPXhUappA5MoIIElW31bfex3efWw+Js08B1PP/hEA++l/YV97r+ee6e7B4re3ItPd03+z4ea1bch09/Rv83GmG9c88xE+znRn3UcSzqyuwVV1wwI3toibEQQf7OwIdb+ZlnYsvvNpNDROzanDnd/jZVraQ9vnqOoJoW7vd4xGKG1etDLUbcN8bj5htYqI0ogVqyKTVAUrrrbjUU45TON0RnPlyqheWddURXHt3a6F8Vh3Tx8Wmu53ZVTOjPbtdZVluOevm/HK+nYAm/GTL+w96Dh+qm1RrKkyT89zE+eUQTfWDod24woyHTCKSpW5smIcw6iyuB0vSEVmVPUEHDH6DKzNvIzVLU9l3f4zNcdgyqeOwNJ/3If2sg222/i9Jn6mMubSna8QOvtlw1BFRGlVOmfOHM8b//zG2+YMPfik6EZDsXps+Jcwsy33G5qmySPvbMO817agrrIU+48Kt8oQ5b5zseWN5zH59O/1f//81bNDP0amuwePvLMN4+oqUFlW4notjMemfqoG08cOQePEYagsK8G4ugp82NaNV9a39z9v3/oqbGzfhfMO+ZRtWB1XV4G6ytL+fTjxEqpaensxr6MdE0vLUF0SbrF+Xkc7rs20YWRpKaZXVIa6bz+qS0owvaKy//ycxjXmv1Zg43kNnvc7buIo1NXXovGMw1BZXTHo8UxLOx6ZvwzjJo6yfdzOI/OXYe71j6KuvhZr31rf/+f9p09wPZ75eftPn+DpWB09rSgvqcTEuukoL6nEls73HbedWn8cPlN/OG655RY88dyfHY+R7ZpYVVZXYP/pE0LfNsznpt0p73+M/Vq3Jz0MIiJcM2/Fhjlz5vyn9efp+LU7JSauClZc1Z4o1/Kk7Z5WBmMaoPl7L10A/bBWjtyuhfkx82tt1xxjXF2lbaXK/Jywqm1Rrpfycy+sOKtbbuPyU7nKtr4pSEXLrrLS0DgVi+98uv/+U3aVKa8VGWtly6hUTazTmjjZVa6m1h+HiXXTsWbzi3h905Oux8j3NV/5Jooq1SdtnZj72FtomnkA9hhWHfr+iaj4sGJF/R4b/qX+r7ArWXFVeyrLSrD/qBrX6oYba2UmzH1n238Q5jVVz189G2U1dZg08xyU1dR5uimwV9bKkdu1CPpYEJ97ZgfGfLDT9jFrhWpiaRlGlpbizOoa14qV18pWS28vfr9jO5Z3d+PgigocU1XlqRIWZ3XLWsGysqtcBak++a3eAAMrK8afjYBmV8Wye54ba2Ur09KOuXf+EVM+OwmfqT98UOXKCFVrMy9jTeaZgq36pIGf91iUVarb//QGrrjzeYwaVo2jpo2N5BgUrU/aOnH7n97AfnuPQE1VNN1UieywYkW+hN2uPa3VHquouxeGuX+7RhVu3QJz4aVyFMYNff2wTv+zVoKsFSq39VLm52arbBnbdvT14eYd2ge+mpKSAdu63TTYT3UrDtbKVZDqU1jVG7tqlFvVyG29lXVf5vP6jx/9dEDlyhyqvKzBygW79iXbXdKsaeYBA/5L+WfuY2/hiju1XyJePvvQhEdDxGBFWYQVsOJqXpGrsAOgNTyEtX+3m/8GCVdhTNU0h0ajA6Db/nIJmXZrqqyByE+AMZ67vLsbP6kbBtTZN4AAgB+0bsPS7i78YMhQXFhbi9W7enBCZdWg/TmFLq8NMczCmD5oPQ+7/WVa2tHVsROzv9+YSPMDo+plBI9sH7rdPqBbw545aJmnBRoBK45QlW3Mhc4IlQ2NUwG4h+Y4GlTsMayaH8bzHMMxpQ2DFXmSlvthRS3sAGgND9b9Bwk0bqHK4DdchVFJM4dGL/tzC5nGdWkYNwQrPt4x4Po4NaqwBik/AebM6hos7+7G0u4uHNldiQuHDEVLby/u2LF9QGUKAJZ2d+H4yio01Q7Bg50deK69HU92dw24qe+Z1TXo6OsbMJ5cWENjkKBl3geAAfszqlbNi1Zi4a3NaLryZNtqShzVFj/BI5cOeKtbnuoPVcb3cSiGrn1OvL627PpHXjEcU9owWJFvYU8TLGTZKlR+A03t/kdi0sxz8Maf/4Cb5lzhGsjM4Wrz68/h3ZVPO4a4sCt1XvbnFjKN69K8thUfZ3YB0K6PEarsgkWQSpChvrQUNw8fMaiic22mDT8YMnTQvayM4zpVxepLS3Fpnb9r6VZRsh4nSCMOu7Ga/3zI0bcis+Q8dHXsRFfnTmRa2geFpziqLX6Ch58piNaxT60/bsDjU+uPiyVcFXPTi2yvbdBA9UlbJ373P68DCvjurIPYiIKIEsNgRYFdPP4GhqssslXA/Aaaexc/jF+/cBI+efN5/f5PzoEs092Dn/34cpz98tNof3u5a4gLo1Jn3b/f/VmnEq7a3IFX1rfj0LG1A65PS29v/3Q8IFiHPy/BzBxEzFUhY5uwu/uZpyMeVF7eXyWzWx8WZJ2WdR92162uvhZVNRWYe/2jqKquGBQAoqy2mKthsy44tv8GvGFVx8xjt66pMr4H4qtcFaOoQuXcx97CNfNWAABqq8tZwSCixDBYUU6KZYqgVVjt441Ak+nuweK3tw7Yn90xtGrOq/jyIZ/CtE/tcA1ku4PKw1lbpIch1/1b27SbW7PXVZb1V6se7Ozon44XdJqdl4pPtmYXfsNdtjVO5umI+5WV4vjKqkFrt7yMLVdu4SnKaou1ohR2dcwYu12jiuX/eBj/6FyHLx39FQAMV3HLpVI197G3cNrRE9HetQtQXGtDRMlisKLQFNMUwbC7B9rtz+5n5srSrDr3Vt3moBIkCLo9x+6xXKte1uebvzevq3KqJBm8NGnItTOfEe4mlZY5hh+759itcTI6EZ5ZXdM/HbGjrw9Lu9txZHflgLVbfqtkxvYnVFbhye6urM8z1lolMVXNGuiiqI45df/TQtxP8fjz/8NwFbNc1lOZO8Jd3XSE7Ta8VxURxYn3sSpyvR1t2P7qIyivH4eScm8fELOJ6l5YaWK9r1MU+8v1GOZ7RgW5j5jbc/zsL9d7d1mbVWS7N5P5PlGre3bZ3jMq2z6yGSEleK67G+/29mBcWZmn+1FNLC1DtQh2KYWTq6oxrqxsQHv3kaWlOKaqCtMrKjG5rNz2nlt+74FlbP9hby/md7R7el7lXcvwh95uX/ex8srt/kXW+1N5vV+V1/27tVQ37sO150GlGFI7BBPrpg+6z1UQQe4JVkxybVKx394jUFNRhl29fZi2z0jb+xjxXlXpw3tPUSHgfazI1o43m9H61B8AAMMaTg9134U8TTDs7oF2+wvzGEGm6bk9x8/+wm6rno3Rka+jrw9frq4Z0Do9LE92d+Hd3h7X6YjW6lJ9aSlqSkpwbaZtQAt2u+qZMdXP6EyYrVmGE2O7EyqrcGR3pefW825T8HLpDOh1el/QYzjtf1T1BNtQZV3XBWBAK/bNne8NCFd+x+V2vsV+P6swOv/tMawatdXluOLO51FbZb+2iu2404f3nqJCxopVkSuvH4eSmmEYcmBjaBUrO0YVq9ArWUkzqkN1laVoXtvWXyUyV6+8qiwrwbi6igH7MT/mdX/j6ipQUSro7VMYP7yy/zl2lSzzz458ocPn2WuqS0rw+q5d+NX2DMaVleHCIUN9VaZaensxr6NdqzA5PG9iaRlGlpbisqF1jlPrfr9jO361PYNqERypTxc0nmeuRFWXlGBiaRke7OwYdExrhcpvpc3Yvt70fLdzHiElWLVrJ46sqMR3Vreg7fwjB237yPxlmHv9o6irr8X+0yd4GofBqAw1NE5F86KVjpWcoMcw9t94xmGorK7orxiN2LscHSVb8P7212yP8+E7m3DIMfv1j2VL5/vY1r1+UMXK77is47HbV0VVOd5546OCq2o5VetOef9j7Ne63eWZ/uy39wiMGlaNppkH2FY/aqrKcdS0sayMpEi214woHzhVrBisilxJeRWq9jog0lBlxXAVHWOK3sb2XXjsnVZfU//c9pfLfirLSvBOSxf++MYnqCwVvNPS1R/YrPs2jnfAx72YXlHpKeTYsQswVk779jLdzkvAWd7djRd37gQUsK63B5PLyh0DjnHM1bt24YMebVsjcGU7D+u5dCrl+5qZpwwu6OzAF6uqcUxVFcb81wpsPK9hwLZuYSEbY3qfUclxCihux/AzndAchMYfNNz2OB++swkvP7VmwFgyLe1Y9F+PDjqG33N3m85o7Kunpxf33fh4oKCaZnYhNIr7UzE45R++ZlQIGKwoVfK5gpXrmqEoGeuyTttvBPaoLc95DZiXdV5eroexn54+hT++8Un/Pu3WlR3wcW9/kDCHnImlZZ4Dg5fgYw1QRjg5obKqf/2T31BmNrmsHH/v6cFzO7WAZQ1q5n1MLde2fcayrdcKlbk69vfeHl/rsIDdQfSbtUMGnbs1WJnDQtA1RNkCilsg8VM18nKcQ47Zb9A2TscIsu7LibGv8fvtGTioGtK4lst67XnT3/hwDRNR9LjGilIr39Zihd0RMEx+ugb63Z8TL9fD3FYeALp7+my3P/bFLhzrcL8m832ebh4+Iud7R1nXK81t34Gbd2xHx5A+15v7Wlutm7v6mcdk3HR4bvuO/u3M6676j9enHc+6bVAnVFZheWW3526Fho6+Pvy5swNNtUMGnIfRKdBO0JboubRtD/sGwtZtMi3t6OrcidkXN0Zyv65sxw8ijhs3+2U+L4aqeHENE1FyGKwoVfKhZbvfRhBh3fMqDtaxehm7l+th3k9VWQnmvbYFlWUlA4KVXaMK8/2aTqiswsLSdizt7sKDnR0538cp6L2grPfRcrsnVn1p6YCQdlOmrT9M2Y3HLdA5aentBQD8YMhQNNUO6R+ftVV7tnMybkhsbqxhcApXXkJO2E0a/AQRv8fOtLTjlssfwMtPrUHTlSdnfU6mpR0Pz38BUMCp5x6dWBOKKG/cnCuGqvixYQdRctL9KY+K1sXjb0g8XDmFimxVHOvz0lzhsrKO1W81yrjJsbEvu2vgFsSc7tPU0tuLazJtgzrx+bmvU7Ztm2qHoKakJGu1yHofLXMXwpbeXs+VNK/HyzZuIxRdVTcsUOdAY1sj7Pl5nlPIMQeaJKspfrsQdnXuxMtPrcH046YMCil2Ia150Uos/E0zAKCqpiKxalGUN27OBUNVMvYYVs1KFVFCGKwotZKeIhg0EFmfF6TVeVKsYw3aVh2A4zWwC6ZGtcqp+mOuEpmnARrbd/T19YcUp2DjVlkC3CtY1nBj3s6pjbodc5jyWjHLNm5rkApSifNSLXObEmhlDjRu1ZSoW45nq+T0B6qOnVh4azNmX9yIpitPth2P9ZyaF61EQ+NUdHVqDUq8VouKoc06A1UyeDNkouQxWFFeSGKKYNBAZH1e2Pe8yiaXqYfWsfoZu9318nINzFMAnaot1iqR9ecdfX2u4cNt315kCzde1zUZFSWnqpzxc+OYZ1bX4LDyCkwqLcNh5fZNCcxByk8Fz05Lb2//Oi/rWqtszIHBHGjcqilRV7Psjm1XTZv9/cGByhqAzOdkHvfXLvmSrzHZBbRCClkMVcnh2iqi5DFYUV6JM2AFDURBnxfWWizrtLsw9ullbNbzNv7s9lzruiqnaku2n7f09madVhd0TRWQPZQ92d01YF2TW8CxNq0wmMMbgP4/L+/uxru9Pbh1x3bMq3RvSJItAGYTdK0VMDgkeQlKSazRcqqmuVWoZl1w7ICQlsuaJqeAlsapfH4wUCWPa6uIksd265SX4mjXHndb9TDuGQUMbJFud68ovzLdPbjlxQ1Z74vldL2czsuuWUVQfm+ca5WtfXq2/VvvN2V3c2CDcX+ryWVlmNfejs+Wa/e3Mu9jbGkpPuztxTdrh+ALlVX4sLcXP9HXULnJdt+rbOc5sbRMG3NFJb5eU2u7jd29rQCtvXZFdTl6dvVi/OQ9c77Pk+GhO5/GfTc+jorqchx4xKRBj/ttNW5uA260U3e7z5RdG3SncXsZi/m5Qe/XlTYMVenA+0MRxcep3Xq6bsJD5KK3ow1tKx5Cb0fbgJ9fPP6GAeuxwmKEkua1bdk3zlGmuwfdPX04a9rInNdiGZWjusoyNE4chnMPHpXTPpvXtuGV9e04dGyt636crpfdGD73zA609Pbijh3b+7vaJcmo9DzY2QEAA8bmZZxGNczL1Lmm2iG4qm4Y1vb0Yml3F67RK0zmfRgVsCe7uzCpvBzzRu7hqcNftnFYz9Pu+ZfWDcOlWULcIUffOuhndfW1qKquwMJbm9G8aGXWsXqmLP+1MKo+Xo9pVJ6yVb+8bhfVWPzui4iIksepgJQ3drzZjNan/gAAGNZw+qDH3aYJBplmF2fTiea1bVi4aivOPXhUqC3Zw1jfZZx/w7ghrtewceIwdPX0obunD5nunv5trGPI1qgiatZpei29vejo68MPhgwdsL7Jblqe2zjN+3Xr+GeEnxMqq3BNpg0/qRs2aExe1oMFWU+VyzozL6Jo+33quUejqqbCcZ/mYybdGCLM809zC3UDK1XFi40yiOyxYkWhc6os5WrIgY0Yftw3MOTARtftjAqWuYoVpPpkrvxEKdPdg66ePswOoVpl7G/x21v7b8abK+M6rPh4B+a9tgW3vLjBdt91lWWoKivBwlVbB11nY0wTlu7++QmVVTi+ssrzjWztKkdBql7Wqo2xrqimpKQ/oJxZXYOr6obhzOqaAX/2ul8vFSxzJco6Ji/Pz1Z9suO2X+u1zHZtnapWfqs82WTbp/nxpKs8YZ6/MUWwedFKZFraQxhduBiqipvRKGPu/2fvzcOkqu51/7eH6uqunuymW4bGRhHoyCAgGAItNhBwQMM96pHEDD8gMdGTGOMcf0dF0GNyrhOaBEWTkwZNQiQXTiQMRyVAG0C5yqC0qKhIQHCgBHqmumnq/tGsYteuPU+1q+r9PM99mu7ae+21d3lu9ud5v+u71u5O9lQI8RVpu8aqu70JLdtXI1BeheyAsRc34gwt21fj2IZ6ZIdKkd/fuUW02YF85PcfmvB9an3XYh3WR/0m46rIPzB1YKkn66UERtZprf7gKP74dhhj+hVhVJ8i22M6tVZLTlVJHvY3RbDtUJvq2CXBHHzW1oVvDCmLE1Ixp145ORib19OAYXFbK5Z2tKMsOzthHZISS9rb8FBzE/acOIG6YM96J/E36bh6yNchKa1Lkq6pUltfFZw0Cd379qmOK6fz4ol4ctcuvBaJoCY3EHeM/FzpWqhD3d249djR2Foso9eTore2CkDCszTybNXWW3mB0hokrTVLqcjq57Zg8X+uia0F88O6qyv2HcSQYy1JuXayCDd14Km/vo0hZ5Vx/dIphpxVhsrSAsy+fCifCclI1NZYpa1YufVyT/QJlFchO1SKgkHj0LrrFdfl1sh3nR3Ix22BTZ5KFWBMcqTNJozMTzpmVUlegmSZHc8owdxsjO5biGBOFk6cjKK8oGfjX+m11+1twtoPjqGiMBB3v1UleRh6sDtOAkQTh/F5QUNiNTAnF3tOnMD6yPHYy74ZuRDIRclK44vgpEmo/OPzyCotQWRjg+44pfPvR59fPIQFrzbgD+/uRkFWFt7q6oqJjvxcqdT8sb0N6yPHsb+7G1eFEjdGFsdrSZNWMw2BEeFUIllyJZcOwF5TCT8iF0Wle1bCrfu1klKlg5Q89de38fNnNqGytAAThvdLi3uyCxtlkExHTazSdo2VKBfTKxsjzpMTKkXpuGvQtHW55poopzD6XSdjw2E31mlJx1TaxNjNfbNKgrkI5mZjyc7D+PDIcWw71Ba7tmjA8S9fKUPz8RNYuuswrjiVXE16/TgmydYnaa1DUmNkIICRgYCtzXCdILJxI1p+9zsUX389AKDp/vmqx5bOvx/F11+Pw8/+FkM3b8HQU/PV2thYuhZqWjAfaAbmGmjNbudZKG18LB/P7j5ZUuyuhzKzBilV25rL9+Eyes9u3K/V0r902FtJ3sbcz/fEtU+EJJe0TazUysaId4jkqmjEVFe/B7PfdXd7E5bt7cK6c+bgivZXXZsX0JPynFcZ0kyOzJbuScc0kk4ZKUfUOkb+mbjmN4aUoaIwELu2KGkszMvB+o+b0fhFB0qCOfjO7pOK1zSbFC1pb8PDLc34en4BhgUCuimNEvKSOKUSOSNlcwAQ2diASHExyn74Q0SKi9Hd0JBwjJCqlt/9Dm3zHkBNbgB7uk9gen4BqnJz0RWN4uGW5oRyO5EYLetox9i8PHxbtlmvNE0aFgjoJks1uT3HqLVQN/rMhNDJ52sktZKnKEbTFzWMtGoXeF0i6FZiZPSe3bhfq+V/6VAyJk9n/HxP8nSNEOIOGVcKSJKPX+VWWjq4Ydgtru6FZQS5HDVHTmD5u1+i8Yt2DDgjqChDQnYGluVjVJ+iuGPkIqQmbtLjtPa7kp8vxK4kmBv7vTlyAu8e7sCwM0O46ivlKArmYMSZIdz1ecD0i7waUplQe8HXw8g6IjPrthauXoW3C/Lx9Z/8JFYWKESk9qGHUPbDH6Lld7+LJVpi7KrcXNxYVBwTHiUpks9DKjhi36tlHe0YFghgYn6+5nO2us/XkVPru55rb4vNs1dODqYF87Gsoz1OPvXESi5SXsqOVEjsSI/Rc+1Ko13MSKcedtdUGSkZS7XSOj+XwflZ+ghJJzKuFJCkNt3tTWjdtQ5FI6YiJ+Rsu3Ol0kEzZYJWWrdrIS/dW7e3CS80fgmgJ51SKutTKgFU+0ytHFF6nFbJopFyRmm7+KqSIB49cqoExV61WBzS0jS1tuEfdXXFWpiXZWcnlK3Jz1Max0xL8pkFISy7fx4OhwpR+aMfAgAW3X4HKubPQ+WPTkuVKKGbFswHSmColFE+D3l7evnvTpbpCZZ1tGN95DimBPNj495YVIxFrS0J5Yeja3+FHZtvjp0rL/WTl7HJy9y8wk6ZnNFzU6FVuhG86vzn59K6VKOitIDPkJAkkhWNquy6qECw7+Bo39lPuDidzMVNkXADt+cr1medMXmOq+uz9FCSrBXvfoklOw9j1qjK2NoiJ0WrOXICq/YcRRYQW6OkdIzaNeWfqR3r5LylY016/Xjs71Ze9rXO0Rtv1pfhmAiMDwbxUHMT7ikp9WQdlij7Exx+9reIzH8AAGIiYmcuSvtvSX934hp619T7OwA0/O0HWPeXN3C8vRN//tU6zL57uq7AeLn/lJ1rJXufLK/wupU61wURQlKNnMlPbotGo2Plf6dY+QS/iIRR3J6v30RTKlhyIZGLVrJJ5vzE5r8CKy/7WufojaeXWLlN/4MHYv/+pOosAD0Ssrit57nMlq2VchJpKvZK5Hjsp5f3D5z+jr71s6nIL8gzJCErntmIxf+5xpCEJYNMESrAWanSEyYKFSEkVVETK5YC+oRU6WIohKdgUM96CrfmKzoL+gVRKvirf96RULrnRuc/OxgtBfSCmQUhtJ88ifaTJ3Gku9vQC75WKd60YD5eC0ZUNxU+NxDAgjPKYkLlRHJjNHUrnX9/wu9N98+PbUB8T0mpq4IjL9N7LRjB+khPeuhl58SZBSEc/HGtooQoCUrzkTYcb+/Et3421ZHSOSsSpHdOqnYVNIMbKZVeiR9LAAkh6QbFyif4TSTUaN21zpMW6n5FaS2Wm+3NrTCuqgiNX7RjXFXPZsNezU+eVgE9L/uh7Gw81NyEUHa27Rf8VyLHsT5yHOMjQZwbUF6YLV97ZBcj40m7/zXdPz+uLHDmvXN7fkpE0Y31UAJxnWnBfIyPBDEtmI9FrS2eJVflOTl48Lm3sUNBQJQEZd1f3oiVDDqRBlmRIL1z0mXNlNfI25Sb/ZwQQlINihUxRaoka14gTbGkSEvxgJ4EaVxVEbYebHV0HZba+qitB1ux7VAbhp/ZiqtLgqpzcnIu7607jLNVXtzNNIMAtEXGyFhmr6eH3nhyqQJO72tVfP31OAfAjad+F0LVfvIkFrT2dFozK396UiZtiHFuIBBLsNT2zHILaTMLkQiNmzoMQLygWJUWtZTJynh65ySr0YYXuLmeSq+RAhstEELSDWf6IBNH6G5vQtPW5ehub9I/OEmIZM0P657UMPIcnXzW0hQLOF2Kt25vU+zf/7Xji9jfmiMnsOLdL9EcOWH5mmLcJ17/NGGcqQNLMWtUZVzpn9Kc1u1NvHcrc3tv3WE81NyEW48dxZHu7tjfj3R3Y5FEHoy+zM8sCOGektKYyIhxpGOr8VFXF249dhTTgvmq1zMzHnBaVJQaaey/598TpErQdP/82CbCokxQKo3SezQyN/HZ4rZWPNTchGUd7Zrz3haJYNLnn6EmJxf3nNpc2Mh5VtGau0iEtq57B1ffMClOhIS06KVVzUfasOKZjWg+0hY35rq/vBF3nNHx5OdMvfZCrPvLG7HxiTOEmzrw6J+3IdzUkeypEEKI6zCx8hGZXmbnFEaeo9PPWipX/xG5BUD8mqZxVUUYfmZPYqXVKt0oUweWovGLdmw71IZ1e5vixpGW/omkSpQFSuektObK7NwuaGjF2QUhNBzvKdFb3NaK2069xEslQuw9ZSUtkY4DQLMs74HmJqyPHEdXUxQX5+crXs9qm3L5ca1z78OEH/8btjz1NKof+oXiOdLkCogvC1S6llZat7itFQtaW3BjYRHuKSnVLfG7/dhRfNR9AvObm7Cxdx8c6e6OJVZK92MXpbmCdNMOAAAgAElEQVSL1MqJUjp5uZ7T5XlK5YDNR9qw6rnNQBS4clZtWjWuSJVW6k42uGCzDEKI23CDYB8RKK9CdqgURSOm+m5T3VTCyHN0+ll3tzehZftqBMqrsLHPv2DfoH/BlC//J1ZyV1mYF9tMV74hsBz5Br9KBHOzMbpvIRCN4t3DHRjSK1+xrE9s7ltRGMDV5/VCMDc7tsFvpPtkwnXE3MZVFWHd3ibNOYg1VQXZ2dh/4gRe7+zE+Lwgxp9qLKG1oa90s1u9jXGl4wwLqG+oCwDnBwLY392N8wK5WNDaorjJb1lWNvZ3d+P7pzr0Gd0QWHpc7SWX4iv/+QtseeppFD3woObGu5GNDcgqLUHx9dcje8dOjD70qerx0nuVH/NaJILXOzsxMRjET4tLdDdJHhEI4I3OTjx2Rhn65eYmbBJsZiNkI6jNve/vt+LoTRNtb1gr31DYyU1wlcYHejb6/cNjL6Fx696kbfbrBk5LldYGv2Y2rFUa56m/vo2fP7MJlaUFmDC8n615OjlWppBqmzcT4hVqGwRTrHxEdiAf+f2HUqpsYuQ5Ov2sW7avxrEN9cgOlSK/f89C7P/+sA1bX9+MkmAOzqs8XfIlxEZNWIQMyc8D4qWrJJiLlXuOYsdn7fisrQt1ZycmUHKJk54v0qm8nCx8cOR4bMzzKkOxz5TmMONPt6LmmvFofvzV2N9qcnuE5zuhwthLtfRFXv7SrfRSL2RrWjAfVbm5sWPF+cs62jEsEMDE/HxVMSnPycFVoRCGB/JQkJWFrmgUNbmBuOOXdbTjufY2VOXmJohbRzSqKnzS4/L270dk+w4UPf+8plQJIhsbENm+A5GNGzWPk8uPFPkz1pIwAOiXm4sZBQV4JXJc936M3IOWDOvNve/vt+KzH4zTvYYSzUfasPq5LRg4rAqjJg5xTKTkKIla1cBK5BUEMHzcQFz27a+5dm2vuGLfQQw51mL6PL2Xa6mwDDmrLO7YUH4AE4b3M/RSriQ+ZsRMDyfHyhQoo4QooyZWLAUkGY1T+2UpNfUQ//77iKnYeGpspQ2H5Wi1R5eX6v1g9JkAvjj1MxF5R0Dp+WL8yImTcWPO+NOtmBBuxbD6zZgzpxYVFUWKY/c/eN/pX6oe1GzCIG2oACg3hIiVkpUklsGZ7fQn7UYIIK5pg/za0rmJRg/S60j3xpJeW0+S5Bg9Xm3fK/kzlP+uhNZzM3K+0bHsotXuPJmtzkvKC/HtWy7x9Jp+RK+cT9rdT3qs+F2p9E6pLE+pS6CTDS6cbpaRCaWF7NxIiDkoViTj6G5vQvO2Vcg69XvT5qUAekTIqmQptctX+ptaJ0EpWu3R5dJVVRLE3LqzDM9TnPfoK3ejoqII3wUQDrfiAplEVVQU4c47LzU8rpCsT6oeNHyOHGmbcPnaISud/sSx7SdPxgmBllAoXefepmPY1BlBZ1MUSysqTd6VecS+VwAMtajXWiuldD9W1lYd6e5G+8mTuLWo2HK3RWmXQDla8uRGq/NU3fDX6rztlv7pvVxLhUVNsuRCo/RZqnUJzIR9uFLtOyEk2WRFo1HDBwf7Do72nf2Ei9MhfsapdCfZNG1dHmtcUVJ7HbLz8mNSdWxDPc6YPMez5iFGEiwrzPjTra6Ma5RPqh7UfIEXydCUYD4WnFEW97n47B5ZQmQVu00aHmo6hkVtrT1NI0rPsD0fPURi1RE9iYKs7LjUSgmjz0ve6t3M83XiO+kz7z7Vz8ItrViyZTNmTahFRXER1k5ztzPqimc2YvF/rsHsu6enVBt1K/O2I1V2EplwUwcW/vdbQBT4ydUjDSVWqYbWPaTD/RFC1MmZ/OS2aDQ6Vv53JlbEMMnuWuhk2d7JzuPIAlA85srYWHp7dLkhlkobDhsl2fKkRf+D92HpIy/hobtWAFDej+q1SATrI8exrKNdt0xQjpsb7Mr5t6Li2Foko9e2M7/ynBzcVlIakxm91MpoKiVK+W4tKlZs9a6F03uDyakoLsLtl55OSC9/pef/vuTC5RTNKbrhr5n0zokGFXYSmcVrd+OBJVvxv2+4SFEs0iEJ0boH+bOjaBGSGVCsZKRLKuMGyd4cWE/sjH53OaFSlE38juLf5eNKx3RbLOWS5YQ4hcOtqNdZK+UWc+bUxn5WVBTFlQmW5+RgwRllsZd/KXbXDtk5Vgn5fIyMp3WMnnSJz6cF84GSRJmRn6/0vJSuL5UjpT25jG46bBatpEqPJVs24+7lPXIuFS+7fHNbP3xz4P8CtmkfZ0Xs3EzbjG5U7FTXP6Pra4yul/ITbouO/P4zoWyQEEKxSiDZqYyfURIPL9ETOze+O+mYXoqlU2lUff1m3HUqNTKzZsoJ5Ou05Ouw7Lysm0lQnEpbhHxcGMjDlGB+j/iYuKa8FA9QFjOtJh5xn6ucr3Z9reftRmMKs0KlJDGzJtTG/fQaK2In0ja30BI3p9uoG02VUnG9lNuiI7//TBdNQjIFipWMZKcyRB09sbPz3cnTLvF7waBxsTG1ru/XpFOaGlnBjcSr/8H7bDW5AOxJmRQzJXtCPqYE87E+chzjI0GcG1Bu2ayVIumV4umJoBFRNPt8nC71s5JSKUmMvETQa8yInVtli3I0xW2wN5v+yvG7NCihN2enRSPTRZOQTIFiJSPZqQwxj1RqrH538rTLbPrlZFq275fOvRxJUyMrkuRW4iVt1W5XsvTQSmPMJDXSroXjI0HTEqJViidFT4qckkq3xlSTKj3xMCIxXsmLwIzYuVW2aIaTHwxF9uDdps5xQiD8Lg1K6M0500QjFeWYED9CsSIpjxNSI0+7zKZfVtIypZSru70JjzzykitroqxIktnEKxxuxW9+swFAFDfdNMXQPTjRql0LrTTGSlJTZqAFupS4NVM+wY3mH3KhkkuQnnhUFBdh1oRaTXHyg7yokeyyRau4LRBmxM1P5WiZJhqpKMeE+JGcefPmGT74Px779bziUZe5NxuiSHd7E1q2r0agvArZAWdezoyO6ca1nSZQXoXsUCmKRky1PMfsQD7y+w+NnS//3ez5RmjZvhrHNtQjO1SK/P49/+P9095/wl13rUBlZRFqaweZvxENamr6oLKyCHPm1CIUylM9LhxuxcKFG1BT0wcVFT3z0DpeysKFG3DvvS+ioeED0/dQcnsdSm6vQ/Pjrxo+xwgF2dkYmxdEQXa2qc/kLGlvw0PNTeiVk4OxeUHD1xfn7e/uxnPtbabPd5oj3d249dhRPNfehoKsLLzV1YWBObmGnoEaSinV0xs34O7lK1BZXIQJgwZhSO8+qDwlT6Gg8n9P8nPkSMdo7+zE0xs3YEjvPqrjaRFuabV1vpxQMA8TBg2KG8vpaxghq9dhU8cPOasMlaUFmH35UITylUtbBeGmDjz117cx5Kwy3WMFT/31bfz8mU2oLC3AhOH9TB1r5Xp2kF4PAHZ+eBijBld6cm1CSGrxwJKtn86bN+9Z+d+ZWKUATpaZiZQk2nk8tjGu1pip0MzDqfJNr9dJKaVcdtdEaSHKAsPhVs1UzGyyJS0xnDOnFm1tnQCiCffQk2atB5CFm26arJpmiQQrHG7FE+c+YChV8aL9utV1SHZLCJ1mWUc71keOY8qpBM1O0wqttVTyBEdaVidNswDE/q2X+kjHeOyll2ylV16kX14nbOGWViz5zQHM+V6F4cTHTFKhlG69f+Ao7lj4Kh79ycWoOSUkUswkP8nupCe9HoCMKgUkhDgDE6sUwIlERiBSkmD1CBQMulB3TCevbQa3kjKtcZUSJDeRp1z7fnkQoVCeqYTICgsXbkhIxaQp1ejR1YaSLaXxpk0bikmTajBpUk3CuT1p1ko0NOwxlGYtXLgBc1ftxMD7L8GI17XXnVlNkwRHuruxpL1NM7mRpltGjpefV35qbuJ4tTHMjG2FgTm56JWTg9uLSzAqLy+2R5fZa+k1qFBKcATSZOqtAwdw9/IVCOUFsPvTQ4bXTxlJwMyc70a6ZHeOZok919ICDDmrzPG0RyndmvPLl7Fm6z58fKgJ3576lYRzQvkBTBjez9Ac5MeaSdOcQHq9UYMrE67tdYJGCPEvaokVxSoFsFJmpoYQpeJRl6HgnNG6Y2pd280yQbckR2vcZEmk4JapLZ5cp6amD0KhAJqaOrB584cYPrwqllIJOaqtHYT29s6YbGkJltESQ3HdSZNqcMMNF+tKm3TcPvdNiysTlMuHkAUrggCYFzO7Iqc1htLfnZQtqSCaKYUU9Jl3H4om1Zm+rlRcRp1VHRMO8e+u7pOY++KL2H3oEKYNHaYrInJxMytG8vP1yhCtoCWXakjvw2y5Y0zkRl2CJVv/YbgEzyhKkjSmpjc+PtSER39ysWZKZkVKjEqZkbGNHCO9ntK1zZQ1EkLSG4pVmmNUcpyUNDcTHrnkGLk/I8doyZPZZ+OkWDrZCVALUbbX1dWNX/zif2JroebMqU2QI6VkSwm9lE2kYaNHV+OrXz0H77xzCKNHV+uKldK4Yh3Wc9EI5q7aGZMPK4IgxaiYCcGZFsxHVW4upgXzsayjXVV45EIk/X1YIKB4TaW5OCFyTqCVUukJgVRcpg4dGhMOIR/D+lVh96FDWNvYaElu7IqR1+mSGkppnt49iWc/6qxqTB06FKFgHmpGnXB17ZSgorQA3576Fd3SQzelRIy9++MvccmFAxTvwYnre52gEUL8C8UqzfG6jA1wN+GRS46R+zNyjHTc7vYmNL2+HJH9uxCoHGD6HsT1snKDiHz2gS3B8iKtCodbMWtWPZ56quFUud4QTJo0GDfcUKfYpEItiZKWDcrlSOkzqaDt3HkAd921AqFQAG+8sU83DVMbU8zt3+q/hy8Wbrad5hgVMyE4Vbm5uLGoONauvVdODgbm5CbMQxxfkJWF1yIR/K6tFX841cBiYn6+4jWV5mI3kbOLkZRKSwjCLa3Y8uFHqBsyGD+8uE5RXELBPEwbOsxycwq7YmQlXXID6X1Ikz2teSlJZUFbP9TW9SQvQpx6lRZg8drdCQLlRRLjppQMOasMuz/+Emu27kMomIs33/s84R7l13czQUs1WOJIiHkoVmlOMsrYnEy/9DByf2afQcv21Wh69XlEDjQmyJiZ9CvafQJNrz5vS2q/O+pTQ2V3RlETnKeeasD06cPxy19ehenTRyiuhRKoJVFClN555xAuvXRY3OdKKZdU0MT6ra6uk7j33hcVx5CjNKZ0bvL0CnBvnZJccKS/SyVLzEN83hWNYkFrC/Z3d2NKMB+3F5eYmldHNIp3TnRhWCDguVgZ3exXLgShvDx0dZ/AsH5VWLJlM+a++CKmjxiBqUNVNmSVtWc3kkBJU7KKU8dZLQ30C1LBMyp7alIpOgQKcfr4UBOefvHtBIHyIokxIyVmX/RD+QFccuEAVJYWoKvrJO77/WsJ9yi/vhWZTFcBYYkjIeahWKU5XkpOMjByf2afQaC8CsgNIr96BIpHXRZXchj5ZLeuLInr5RSV40TTZygeMwM5oRLT97bvlwcNl91pIZUp6ZopueDMnz9DtSOfVholqKnpg3feOYQ1axoTkiellKu9vRM7dx7A6NHVsWRs+PCq2Bh696y3hkuaXp1Y9DoA50vnhKgNCwQwMT8/JjfSdEkpVRKf1+QGUJCVhfF5QdxdUmq6c2GySgGNShWQKARv7tuHuS+ujL3wm221brc9uxtrpvyKmoBFj1Qiq9fhmDj99JpRqD6zOEGg/JbE6L3oKwmOuIfhA3sZksQhZ5Xhq+Pr8C9jSw3f99o9+bjhP15IOwFhiSMh5qFYWcDMGppU2O/JL3jxrIxcIzuQj4IB5yN/wPkJJYdGuyYCQOuuV9C6fQ1ySystJVa3TG0x3ABCC6mcKa2ZMtJx0IjghUJ5uPTSYXHJkzhe6RpqiZMYQ++e1eYtJLC6uhzvv/85Ro+ujjW5qLp6BHb/9nV8v7AoJjEfdXXh1mNHcX4g4LjYKLV7l6Zm5Tk5GB/Mx/hgvmridKS7G0+3tmD98Q682dnZI2OnjnWyFNBImme1QYUUqRhVFBdhSO8+WLJls2qCJBcpI2mNlnwZLQ1M1WRLC+k9FfZtiklHxSkhMFIeaHsOGumOXvIz5KwyhIK56Oo6ieEDeyUcoyVeSpKoKGL9RmD4jHsQKioBjrynez9Zg67CsGk/wrDyFlMyZuR+k43fxJqQVIBiZQEz65aSscbJTVKx458T19DrmiieS3ZBCVp3vYJAeRXyeg9EdqgUBYPGxf5m9JmJphVOtFmXypnZjX2VxjAiO8OHV+kerzam3XsWwrZ3bxhPPdWAysoi1NT0wcKFG7B9+wEs/vtuDJ13aaxV+63HjmJ95Dj2d3fjqpC5vaT0xEZJvKx0Gny4pRlvdnXh9c7OuPPsNufQm6vACaESmO26Z2WNk9Y5Rsfzc7JlVfqk9zS+bLzipsF65YF20ZIf6WdKbeFD+QG8+d7niiV9gLGERSozYn+quLE6wkBuAbL61wG5BZpylTXoKmT1r0P0kwacF9htWkBYakdI+kGxsoCZNTvJbtXtNEbFxIqAefGsrF5Dr5xQPJcTTZ+hdfuaHqE6ZzTy+w9Fy7a/oenV55GVG0T+gPNVryF9Zrdd3mn63tRQEhW90j7552Zlx8g1nZBGrQYWN988BdXV5ZgzpzZWAjlp0mBcccWIuFbtZ//qNezv7sZcC6V4emIjxEvaJVCt658SR7q78WqkA7nIwtfzg5gSzMd3QoWGOg2aRU0SzZT9STH68u+Xrnty/DovwLr0ye9JSaz0ygPtoiU/0kTqjfc+x33/lShQaueHmzqweO1uzL58qGYnQqnMzL58qPJcjrynK1dSqYp++N+OPwtCSGpCsbJAtCuCzi/29iQSNvZ7SkWMiomegAmJmDZhLPY3dQEw9qzqhlTin1+2G56vXPDc+j5iidaYGcguKAa6T8Q6Cnbs34XIgcaeMkINsZI+s7tn9bc9Jy150ivtc2Jtl96YRtZtmR0TOC110nROyNYNN9Rh2rShcdc7+87JmHXv5ch9YpMj9ylFiNfitlY83NKMgqwsTCkoMJwyLWlvw4LWFnxyshtXFoTwU43mFnbXWylJopJUGRUmoy//fum6J8fLeZlNoKxKn/yelMRKqTzQSbTKy6SJVN3I/pj+tXMMr/symv5IZUbzHjXkyq5UidRs1OBKTB1bHbfR8CNLt6HhrU/Qt1ehK6WY6YjfSypJZkGxMoj0Bb1117q0Ku8zg1Ex0ROwlu2rMS7vEFY8eR9KCgJo2JP4P/By7r30XDx41Uhs++BgTMb0MJKwKZXxiTmb3QcsJ1SCzs8+iGtwIZpYlHz1as0mFtJn5kRiJaRjx4792Ls3jOHDqxJSHb3GDzNmjER9/WZHuhLKr6nVRdDqmGrorceqqCjC8rJcXPjMTOT+23j85tFXFJMfq6nQa5EIXu/sxPi8IMYH9aVeui9WWXY2xucFVZMqgZPrrbRK/4wKk58THy2SsbZK/kz19v5ySvpEEwuBH15Qhfj8aMaIOOnQm6PR9MfUuiGZXIU/3oH3AnWoGnWFraRKTQKf+uvbuO/3r6HhrYOulWKmIyypJH6CYmUQ6Qt60YipaVXe5wZKAiaVlLzeA/Hxp4dRMaAGP7h4MIpyT+Jvf/qdqsDMvXIofnDxYDzxxBP47X+/YlhojSRsSmV8Ynwra7Lk15Q3sVCTNfHM9j/6paHr6CG69L300m40NOxRbUuuhPhcqYsgkJiGGUmf5NeUdhG0moy5sR5r584DmLtqJwbef0lsHZbAaipUk9tT/qcnR4KnW1vwcEszyrKzcVtJqWZzC4ET662MrKVSEya5kPg1idLDSpmdXRmTP1MrmwFbRSpWfnhB1RMftTm61mhBIleFX/kG+g0chjf/vgx9j71ieUg1CRxyVhlCebmoG9Uft31zjO1STD+IshewpJL4CYqVQaQvyzmnXrKdliqj6YiXnQadvJZUUsT6o1c/OoqSggB+cPFg5B/9GK/847UEgZl75VB8v/Yc/G7je7jn2RWmhNZIwiYt48strUTRiKmIdkXQsn01CgaNi/3N6jXloqUna05tCiw67IVCAUyaVIMbbrjYsaYV8hI8K6WDZjoAuoXSeiyxp5Z0HVbz46/io64uLG5rxfT8fMwuLDK0Pkra/W9gTm5snZXaGqmnW1vwWiSCIye78VZXF0YFArg4X329iJMYXUulJkx+bvZghl6FRfg4HMZNU6agolh5+wE5du9d/kylcxh/7iDHkz+pCBa0VsXkSrygfqN2oG/L0JLyEn3kPWSdffodJ3fXr2xdW00CQ/kBTBrdH5NG9XekFNMPouwF7F5I/ETGipVZYfBirZTRdMSt7nlKz8TJaymlR93tTVj158XoVTUQP/n2/0LFgBq8+tHR2DlCqn6/+WM8uHaPK9+BtIxPjC/uO7e0EqXjrjF9TemzlIu4XormlFgBPfIyaVKN5oa/SogEavTo6oQ1SUCicFltC+9EAws7iL20JkwYFLtPpTmV3F6Hn2xsxN/f+xQl2Tn4duHpF26pQHVEo7F/i42B3+nqwj9PnMDOrs7YOqu3uroSBEt0/3u9sxMlWdnY392NiadasbuNUanSSmZStfRPzpItm7GooQHVvcoNS5LT9y6dw9ShQx1P/uQiKMRKvKAqdsvzCcl4ic4adBWySs4+PQeDrdiTDZMcQrwnY8XKzdbeVlMeo40hjBxnZQ5Kz8SpTn3d7U1o3bUulvgJml9fjqZXn8ere4/hzJoL8IOLB8fWXEml6oFVuy1fWz4PI89F676NjKH235facxCINutmcKIJhHy8WbPqY6VxSgmUXD6km/0mS5IE77//GWbNqsfYsQNUNzwWmEnaevUK4eWXd+PRF76PM1eefqmSlge+c6Ir9u+ZBSHsOXECDZ2n11d9Pb8AXdEoHm5pTignHJiTG9ss+N+KilGVmxsrHbTb8U8LM13/tJKZVC39k2NWksItrViyZXNsX65kzMHu+PImFqn8Qu50+Vtco4rtT+h2C/RT+R2THEK8R02scpMxGS8pGjE17qeTNG9bhebNS3Gy8zjKJn7H8Hk5oVKUjrvGkeNEgw0AhsYElJ+J1rX0JMHIfKKSn0Kevl97Dr5few4AOCpVWvOQo3Xf0jGKRkyNPQPxWcGgcTjZeRyltdcl/Pdl5XvRQ6yDamvrRGFhHubMqY39XexdZXa8NWsaMX368NhYRucAAHfeeam5G3CIcLgV9fWb8fLLu7FuXc8Lz+rVP9U8Z86cWrS1daKtLYL33/8MS5f+XwBZuOmmyQnP7de/3ojDh1vx619vxOqDPTLySdWDmFnQs/eV+Cn+XZ6TgwVnlGFxWysAYPapTYmPdHcjlJ2NacF8LGptiR1bnpOD20pO/9/RuYHTL0Mi/QKAG4uKLT6heKy0UZ81oTbuZzpSUVyE2y81/t/wki2bcffynv/2zZzn5BycHN9o23KvMDsfkbYBwB3fGmPr2krd/8TPrP51cb8LFq54Cw88txVtHV24f87XVMf223MmhLhL2ouVUYmxQpbsZzKwIo5mn4kZSVCbT8mYK5Gdlx/7+wOrdsekSvwOmJM4K/OwOob0GQDAsQ31OL5/F45/9CbOmDwnYa5a19dLq4Q4yGVJyE9bWyQmNwAsiU443Iq2tgjuv/9KRblQQ8xBLmJqczY6F3EuoC2KImVbs6YRd945DXl5uXj88Wt1r1FRUYTCwjzcddcKvPHGP7FmTeOpT6IoLAzGXU+MJx23/8H70B9AedWDsb9JxUcuS+JvNxYVY1FrS5wsHenuxrKO9phoAYj9bVowHyiJlzfp59Jz9D6zui8V4P4Lfyripmy6kYYpcfKDocge3PP/11oREzclwex8Zl8+NO6nVbRaqmvKlcEXACcFkBDif9JerNykeMyVyJLIQjJwShy1hMaMpKjNR/73uVcmNq54YNVux5IeJ56LdAylZ1AwaBw6qkcoPhdxbnd7E5q2LjcliiIV2rhxD5YsmRN74a+oKMKdd16KcLg1JgMCo4mT9Brz56/Gww9fbUqExBzU5gyYT7Kk5wLaoihN2e666zJTcxfPaMaMkbjwwgEQb0Ty69XU9FFNwPofPC0rn0gkS40j3d1oP3kStxYVx2RJKZWK/a1EOanSSrLkn9kRKiW8eun36jpeYPZe3EjD9LAiJnYlQUvMzM6norTAlqiEmzqwv+jrGKuzT5WaXP3kqpEozA/oztcpASSEpAZpv8bKLZxKVvyC1lo0pxt6SNdUXfX0FpQUBPD92nNQUhDAlnCeL1vcS5+BUhMMJbrbmxBevSChtbte0wq99uTSdU96TSHU1mXJm1DYXb9lpqmF/FrSc6Wd+rT23Zo/f4bpZEw8KwB4551DuOGGi/HVr55jqhmHdO7SToJqiEYVX88vwMT8nv9OlPah0tubSutz+Wd6bdTN4lUXQK+7DYoGHb0Ki7Bky2ZTGyEP6d1Hs+262XuRroVS2s/KSeQNLMysy7G7Jkure53afNxay7R2Tz6mXXebsZbqklbs0eZ9QEfY8PPj+idC0pOMbV7hNKKhQeST3XGbw6Y6ap38nG73Lm9U0fnlJ1i+4P9H76Hjcf2kGpxRUoSt7ZW+kiqrtGxfjdbta5B/7liccdF3kB3IN9S0wmp7ciU5UmvaIBcyK23UpddU6yqohPxaYi7t7Z2or9+MGTNG4oUX3lCUPKsiqXb9adOGmupWqPScSm6vUxUsufSole3p7U2l9bn47JwH7ndcqgDvugAavY5Wx0Iz+0wJ+fk4HMaihgZTGyGLhEntHLPPTNoQxG3BlG8WbAa7kmBFzNxqJX5mfjvWvLwRI0PvG95EONq8z7UugX5qhkEI0Ydi5RAi2QlWj0DBoAt9l6xYRSmVcrqjolL3v/Dqx3H8ozfxypY30G/MtFhy1bDH2v/w+wkhq2dc9J1Yqmm0xbpUNowmSUov/UaTJEpoIFYAACAASURBVKtt1K0Imd6eWdJNfOVj6omTkflYvVe9c4VgSSVLLkRWNx7Wwshmv3bwogugmdI5LfEwIyVCfm6aMgXVvcp1JUj6HPTEyc4zsyOyRsXSqljZJRkpmdZchvaOmhuzI+zY9eXYEUhKGSHeQ7FyiNgms6MuQ8E5o9NCqtRwqgU7oCxVAJDXZxBONH2GsinXY9MnkbiyQKflyssNl4EeWQ2UV6F11zoEyquw/9EvY59JBUFLnsyIi9JLv9GEx0zipHdNpfGl96Y2J6VNfM0+DyPSZGdPLaPnqqVYeiV/AAy3XLcjVGaSHatYSY/MCJGSeJiREiE/FaeuqXe89H6MnmN0POk4dqTM6HO0k1p5jReldFIxaY+c8FRSxLW/UTsQ1WcWWxLITNkgmBA/QbFyCC82EPYLTt1r3ZBKPDBjuGJL9ZxQCYqGTUJOqAQA0LDncEyudhw4hn9+2a46rllRcnNPMzWaTu3fFfn8I9z43fMUS+927jygKgtG0xWrXfmslgAK9ETDzPhirIqKItUx9Z6H0nyc3v9LD611WHolf4CxVMtugwov1jM5JUtytMTDzXRN3E8oLw9v7ttnW0rd+A7MPMdUESsj2E1spGKy88PDnkqKuHb1mcW441tjLM0/lfcjIyRVoViRpPHPL9ux48AxPPfaPw0d37DnMHYcOKabWJkVJScTOC2kwtf56R5EDjSi+9jnqiV6Wg0bjCZOmzd/hHvvfRGVlUWoqeljWCTslMUpzUOvSYadsQBr4mRXHo3O8fR38SHuvXdlwjosrSYXUoykWnZL/7xYN+WULPkFcT9d3Scw98WVtoXIje+gvbMTbx04gFFnVeuOmUqplR52ExupmJzVuxgfH2rCT68Z5cm+U05IERtkEOI9FCuSVLSSJ6vHmxUlqwmcnWSseNRlyMoN4u7vD8ANN9QplsPZKU0T0jBp0mBcccUIzJlTG2tfLl7szYqKMfoDaE6Yh3qTjIFxx6vNSexTpbbGSusZWC0PlM/FSJmm0jVPfxc1uOKK4QnXU1qDpVT2p5Vq6ZX/GS2/80JkUkGWzCDuZ1i/KkeESO352CnTNJuCpYtYSeVErZRPK9WSisnitbvx9Itvo/rMYk8SK0oRIakJxYr4FqPiIj9OvobJzLlmaD5VzpeVG0T+gPN1j5cKX06oFPkDzsdf/6OfK2VoQhpuuKEutkZKLhLOJzb9AUwHkAfgk7h5SGVCCMoFF3wLgcDFAD6HkCu1OS1cuAFPPdWAqVPPQ58+JRg+vEo3nbJSHihFPhfx+44d+7F8+XY888w/EuZZUVGEvXvDuPnmKbHSy9PfxcW669WEXImyv4KsLLzV1aW6rsroeiqvW5b7gaz+/YHmZv0DLR4vx21htPMdmk3B0iW1ksqJSK92f/wlLrlwQExYjKZaLKsjhBiBYkV8i9GSPqXj7JxrlI79uxA50NjTCdKAWMmTMSMt1q2iJA3yvzlV7neaZvRI1QgIuVKax8KFGxAITMTEiVcB2AXg9Po6tTmJv/fpU4L581cripdcyOwkfkpzEfuIvfTSbuzdG8b06cMxf/6MuPHr6zfjqacaUF1dbnkeJbfX4fwfjkdlZRFaG/bi4ZZmxXVVZtZTedUaXYpewuJmo4ys/v2Rc/l0IC8P0U8+0T0++2vjkVN7EaJffG5Irrxo8iHHzndoRfrSQaykDDmrDLs//hJrtu6LkyijwuR0gmR1/VcqdfpLpbkS4hQUqwzDjQ54bnXVk5f0qV1HqfTPaDmgnfVVeZUDYmV9Vu7baIt1t9B64dcqEwyHW/Hww/+DjRv3xJKj08d3IRQqglSu5FxwwbcwceJV6OjYjkDg/xqak/j78OFVmuLlnCQmzkXsIxYKBTBpUg3uuGNawr5aTs1DXHvMjyagsrII/1b/PZxY9DoAa13/rLxY25UHvYTF1RStuRnIy0P2iBG6cpX9tfHIHjECJ3ftQnT3btXjpCQjAfS6hDJdUitBKD+ASy4ckCBRySq5M5qUyeVE6Ty/Cgy7EpJMhGKlgNftt728vhsd8NzqqidPeNSuo7RGyui6KTsdDrXONfIdJlustNAqE1y4cAPuvXclGhr2JJTJ9fwehDy5Os14BAKjAOxKkCoj6ImXE1Klt/Zs0qQaTJpUk7Bmzel5yMcrub0OoRL39qWSY1ce9BIWt1O06CefaMpVuKUVe84+G1UTJ+Lkrl04+fpriuO8/+ln+H59PS6oHhDbSysZCWAySCexAvy1bsloUiaXE6XzvBQYMxI35KwyhPJy0dV9EsPP6eV5y3pCkoGaWOUmYzJ+oXXXOhzbUA8AKB13TVpdv2jE1Liffh3T6nW625vQumtdbB1Tskj2f0N2mTOnNu6n/LO2tgiArITjTh8vXlJHSH4ff+r3XZLP/YcQpra2ThQW5qm2qtd6RunArAm1cT/NUlFchNsvvdT052JT4CvPH4lVb79laHNgNYQsZY8YEfc7AHwyZAjGXnkl3ly1CqM+PaQ6xp1/+QvWNjYCAFbe/FPNuavdi517IOlJRWkB7vjWGN3jZl8+NO6n0nnyY9xk8drd+PkzmwBAd/4VpQUoLAjg589sQuEpkTJ6LiHpRkYnVl61307G9d3Yb8urPbyMXCcZe1Ipofcd7vvlQd1yu4ULN6Ciogj19Zs922tJIE1K5HMZPboa06ePwKRJNTqb+36C08nVGAC94XepAk6X83V1nUhojy7F6XTKCCe3e3appHXvE0nZx+EwFjU02C63U0qusr82HlUTJ+Kvzz+P3u++myA9ogyyV2ERPjl6FKG8PDz+zW+aliNp6jekdx/H1mV5tcYr3coB3cStcjwjKZvSMW7Nx2wTD+nxowZXsgEISXtYCqhAsjf7Tfb1U5lkS7FA7zu8ZWqLbrndXXetwN69YVMtxvX2brKyKa7WXPTH+wQ9UiV40dA1ncLK/eqt53LjmkbP8VKskoUos7tpyhRU9yq3XG4nlY+Cw1/E5Cp7zBhk9e6NN1etwtdnzkR1r/IEcZPK3fOvv44b6i7GN0aNsnwvsybUYsmWzY6ty3JijZdROaNYGcNv64ncmo/Zckrp8X4qxSTELShWGUiy15A5gdo9pIKUim6AWo0OxGc33zwF1dXlhl/u9Vqoa32u9nIvWojfd9901NT0jpuLfsv28ehJqgTKDS3kWJETJey0lLeaSFm5ptFzMkGsRFJWcSrlWbJlc9zLv1EhEPKx+9AhTBs6DAWHv0D2mNOSn71qVUx62js748Z0Su6kqZ+T67KcGMuonFGslJEnQn5rx+63+RCSKVCsMhC/lMvZwe49JFMuRdMKrRd30d77hRfeUF3jo4RU1pQ2sVXaZ0mg9nIvWojX1PTGnXdeaqIbn3RN1YtQb2iRiFN7bLnRLVBP+sxcU4w1Y8ZIQwItxCoZ7b6TgdLLv1EhGNK7D3YfOoS1jY2oLC7CRd/9HrJ6n5b8UFERxucHEQrmJYwplTunyiGdLK10YiyjckaxUkaeCPktjfHbfAjJFChWGYhfyuXsYPcerIqZE0JmtBugkIt33jl0qs23+suPeEEfPbo6tgmtkpwo7bMk0NtDSumlX10O4xtV9MzveVxwweBTXQG15cqsEKnJjtWW8lroSZ+ZpEuMVV1dniCtSgixSpcNf5U67klRevlX+puSaIaCeZg2dFhP8vTv9yA4ahRO7tqF7pUvJqy5Svcuf2rPR0nO5Mcma52Vmy3EnRg71RMhv7Zoz1T4faQPFCsf0N3ehKbXlyOyfxcClQN80QTC79i9B6tiZjcpM7MpsNiQds2aRt3kRrygh0IBvPHGPtTU9MHo0dUJcmJFksyXxCV2/xPzKy0No7Z2KPSSK7PXdLP8To4TKZjZpEogxMpLEXAzHft+fT3WNjbi43AY140bl/C5/OX//U8/w01//GOsRE+gJpqhYB4u+u73YlIlugLKG1oUHP4CvQqLcNMf/6gqeXKsPhej5zn53M2IuNKxyRArN9csibF3f/wlLrlwgKUX2VRPhPy2JizT4feRPlCsfEDL9tVoevV5RA40qr6wp/K6KKfm7uQzsCpmdpMyeVqlt2fSpZcOM/QSf7qT3Unce++LqKwswrRpQxPkxP1Odsot1eNl5AuIssCOjiw88US97bVUWrKj9ox7fg+gq+tkbKNjIzjxDM0mVQIhVm527JO/0LuZjl1QPQAfh8N45NprDcmMmoipiaZ081/5PlVyuZrz4IOakifH6nMxep6Tz92MiCsdm4zUym4ipJUADDmrDLs//hJrtu7z7EXWb4mEF4mb3+7Zz6R6AkpOk5Fi5TdJCZRXAblB5FePQPGoyxTnlMrropyaux+egZ2kTCmtcqqszG4nO2foD+AiKLVUl99HOPwedu/+EgMG1OHBB+vR1PSZ4WYaSmg9J7VnHArl4Y039sVE1M5aLrNYTb28aF4hf6F3Mx2rKC7CdePGGU6IPvjic4Tyggmtz9s7O/HWgQMYdVZ1bI5aUiWQytVlF1yAXVu3GpK8cEsrtnz4IeqG1OCHF19s6rnoPU8htleeP9JW4wwpZkRc7VivxcpuIqSVAITyA7jkwgGevsj6LZHwInHz2z37mVRPQMlpMlKs/PCCLiU7kI+CAecjf8D5qi/s2QUlONH0GYrHzEBOqMTjGVqnu70JkU92I6ghjUaxkxb5QaaV1lY53VzBbppirxtfM4DPAezWPXLhwg2YOXMuBg06icrKY4r370UDCzeaWxjB6vdkVKzslJHJX/yTtZ+VnKc3bsCDq1Yrtj4XMhjKy8Ob+/Zh+LivITRpUkyqtJ6HkKvCMWPwrXPORq/oSUNzmfviSkwfMRxTh5r73xC95ynupbpXOW6/9FJDz92LZiaptqdVr9ICfHyoCT+9ZhQqSgsSPvf6RdarRMJPKRFTGJKJZKRYpWLzhtZdr6B1+xrkllY6KoNuC4cocywYdCEKzhltayw7aZGSTHspW2prq5KxyawW9mWm2dBRQmiuvXZIrNmGHK0OhmbQ677op+evh1GxslNGpvfiL32Jl7cpt4JRKZALn/S8UWdVo7K4CF3dJzD3xZUo7z6BobkB/Po3v461bJc/D/k+V9EvPu+RLAMYTfGsCI+VhNCLZibhllY83bBe9YXdTy/0ALB47W48/eLbqD6z2BdpiVcip5YSJeP7YQpDMhE1scpNxmS8IidUitJx1yR7GqYoGjE17qdTtO5ah2Mb6gHAlWfi1rztzKO7vQmtu9Yh2nkcTZuXAnDn3s0SDreivn6zbnt1o8dZYc6c2rifblFRUYQ777xU85iVK9/CmjWNmDRpCO68s4+r80k3rjx/JBre34Mrzx/p+NhCUgTi37dfqv19GhlPa4yK4qK4z+Xn3X7ppQi3tKIwGMSsCbX47Z/+GPt81oTauJ9K5xuVKqW52L03K2NLUbo/p+m5l00AgDu+NSbh88Vrd+Pnz6h/7jWzLx8a9zNTULtvv30/hGQaaS1W5DRui49fJFY6j6aty3FsQz1Kaq/DGZPnJF36BPX1m3HXXT0vYVrSYfQ4K6gJjxMyZ3YMu5LnpoD6nVVvv4W1jY2oqxmCmr72pTTc0oolWzZj1oRaxZd4My/00rEqTiUzZseQHq92nlQulWRF63z5HI1+ZnaOqYS4h9mXVyh+7jeRqSgtyEiBULtvo99PuKkDi9fuxuzLhyqWUBJCrEGx8hHd7U0Ir16A4x+9CcDZdMUv4uMlUpnMCZW6fj2jLdaNioRXqZIUJ2TOTSH0w/X8hNMv9ErpkMBsuiIfy0pCAygnO/I0TUsuta6rlTQZSaGk8mU1yVMbT0nmrCRjZgQROP28skuV11BmqsikCka/HyZbhLgDxcpHtO5ah+MfvYn8c8f6Jl1JZfwqk0bK48wc5yRz5tSira0TbW0RhMOtlhIgs0JoV4ySIaBe8v6nn+HOv/wFj1x7bYI4WJUVNZwUNTHGleePxGMvvWT4xd7M2FbTNK1x9D6TiooV0dFCbzwr34/VOZ78YCiyB+s3qCGpid+SR0LShaxoNGr44GDfwdG+s59wcTqZjVgT5FXCksr47VmZ2RBYj2SXtj3yyEu4664VePjhqz0Ru2Teb7KftRonfnv63zN+9WusbWzE5cOHY+XNP/V8LmYTDzmPvfQS7l6+Av95zdWOSmCykN6PkCunpNHus3Z6TIqVPZTK7ViCR0h6kDP5yW3RaHSs/O/ZyZgMUUYkLG6IQnd7E5q2Lkd3e5PjYzuNkbmKZhytu9Z5ODNvEAlOff3mpFx/zpxaPPzw1ZgxYyQeeeQlhMOtrl5PJHPJEJtkP2sjPHLttbh8+HA8cu21jo8dbmnFYy+9hHCL+ncsEo8lW6w9o1kTamMSondtI/NJNtL7EYmhUxLk9Hh2xzz5AdMMO4hyu8Vrd2v+TY9wUwce/fM2hJs63JgmIcRB0rrdOjmN3/b00sLIXJVa6Wu1VXez5bqTaRWQvD2XxN5Wo0dXY9q0oTHp8HpTXS9x8lnb2xssHmm7dTOb6xpB2hpcqT25HLsbB6u1dVdqHe5FO3EzKLVRl96PF/tKJZtU2tPKbyjt72RlzycvNuD1Wxt9QvxORrZbJ6fxSzt0IxiZq9L6Ka2W8m63m3cSo2ur9MrYzJa5ydc6pfvaJcDZdWyp0kRDuubGyJodo+u4zJacaa2T8kt3Pb31SU6vsfIjXGuljJGSPqVGElaaf3ixHorNLAhxBiZWGYKdTXe9xupctTaEdnOz6Fumtjg6nlGUNvmVpiZmEyd5emNmU10n0xo7JHMeSumX1fkY3SDYCtIEquJUMuRE2mI2bVJKsvQ2LfYavbTObpqXKjC1SsRuimQmIfJiA14rSRohmQwTK5L2aHUBdLNDoNcNEMT1Zszo2RRWJErhcCtmzarHmjWNcX83mjjZSW/cSGuUnqves05maqT0/MR82to6UViY54smGU53EhT4LW1SwmrrcaufE+OkWlMHuymS3xIittEnxBkoVoTYxC/7NtXXb8aaNY2YPn147AXe7HysSqKVskErkqT3rP1Wvijm0dYWSYkyQau40c3OKcItrXhqw3oAWQCAB1etApC+pXtOEfedelAO6DfR0MOuiLDdOSHpCcWKGMJv7c39wr5fHkQ47O3LvJo8SP9uNRWxKolWJO43v1mP+fNXo60tgnnzZsT+rpbISf+t9qyTsfeXFmI+4XArCguDlv4b8bO0CJxca6R0v3aewZItm/HgqtUAgPuuvEKxQ6GduaUrXq8fyzTR8HtClGoJIiF+gWJFDJFKzR+8xuuXebXrOTEPNxIf9WQqS/azBy2507pHv+5JBdj7bvzWIEFJLqyUAUqTpB9Pngyg517bIp0JqZKdZzBrQi3aIpHYdeRCZEbkkvldeC11Xpd2+l00Mo1USxAJ8QsUK2KIVOoqSKwjFwAnZEVNlG66aXJs3ZEUq3KXKl35zOK3tUtPbViPB1etRlskgrkzepJGK2uNpElS4anGD3cvX6GYKl15/kg0vL8HV54/UnEsLemoKC6KzVP5fjbgwVWr0BbpxNwZ34jNTUmgkvldeC11qbx+jGmLfTItQSTEKShWxBBuNn/wAjdKGZ3ev8qPOCEraqLkdPLmt/VVTuHEC66zaYdy0mgWaZIkb7kun+Oqt9/C2sZG1NUMQU3fPgljaUmH/r1HZT/VBSqZspFswU6ltutMW+zDBJEQa1CsiO9xQooyvZTR7aYUWuN7VSrpt/VVfsLJtOPHkyejMJhn6wVfyM6PJ0+Jkx21uelJhdbnevf+48lTUBgMxp3rx7TGj3PyE9KUimkLISRZUKzSlHRqNuGEFDldyphqaZXbTSnStQwvGSzdMR0Ym/j3a99cY3lMJ9MOKy/48tRILjvyz+W/22l7LpKxtkgnwi2tiqWCyRCWVGyE4YfUSq3MT55SMW0hhCQDilWakk4JjRNSlOqljHZxu0wuXcvwvGbpjumqn/1lrPpnAjX5SnbaIRcpuejJPxe/N7y/B7+fM8eWeFQUF6EwGMTdy1egMJjnm9RHTy6dJhVFTgm1Mj+mVIQQP5Azb948wwf/x2O/nlc86jL3ZkMcI1BehexQKYpGTEV2ID/Z07FFdiAf+f2H+uY+Ui2tAoBQKA+1tYMQCuWl5PhAT7nhwoUbUFPTx9XrJIOlO6aj8bPBtsfZ3W+w7v8bdugDW9cIt7Ti6Y0bMKR3H4SCxr6HIb37oLK4CLMm1CIUzEMomIcJgwbFzpd/PqR3H+w+dAhrGxtRWVyECYMG2ZrTkN59EMrLQ1f3CQzrV4X2zk7V483cn5VnofZMnt64AXcvX6F6v3auBUB3fKNEj1Qiq9dhy+fbZchZZagsLcDsy4cilB+I/T2UH8CE4f3i/kYIIW7xwJKtn86bN+9Z+d+ZWKUpmZ7QkPQjHcsNtRIqt7CSfEnTDivrtcyW8lUUF+H3c+bErqmH3px6Uqu8U6lVEABUjzdzf3bWrsnvWa9c0+46uWQ3v3AKNlUghPgZihUhJkjFtEqOn/d70sJOuaEf7zkZUmUUuXz9bckiLF2+Am/1Pw91P74f1/U/D7Oqyz2Zy5et+iVsRqRB6Rjxb6k4mhEQL9eu2b1WsstBCSEkE6BYEaJBOjUBEaRq8qPWSMOINPntnv0sVUrUzZgZ+1lSVo5vzLoRGwycZ6fhhnSd1drGRgDqSY1ZaZAfL0+DnEri1LCy3slPYuSHJhbpBPfdIiR9oFgR3+EnmUmnJiCCdGs0YUSa0u2evUbIlFnkyZcZ0RLJzJXnj0RdzRDbqZBWKZ3XZXJeb/ZL/A333UpvKM6ZRVY0GtU/6hTBvoOjfWc/4eJ0CAGati7HsQ31OGPynKTLjFTyDjzZqnqcH0rN/DCHZJBK951qSZUXNB89goaVy2JpmJ2USwmRDl15/kisevstX3TFS5cOfUytnIEv3unNo3/ehp8/swn/+4aLKM5pRM7kJ7dFo9GEzVGYWBHfIW2vrpdeuZ1uxTcBURcrP5SauT0HvwpMKmwMnG5CJZchO8c3rFyGpU8+BAD4xqwbNZtriHEery43LCQiHWqLdKJQo5uel7Ljp7I+knzYkCO94VYAmQXFivgOqcyI9ApQLsXzqlRPr2mFH0rN7M5BT5z8II+pSLpJFZAoQ3aOl67fMjzOz+7BN2b1HK8mbSL5EuV9bZGIZvkdy/PMw7VW1mFKlTlQnDMLihXxNXqbAzuxebATmE1NwuFW/OY36wFk4aabJjuSANlJbsLhVsyaVY81a3qaBCiN4wd5TDXcliqzyZFT1zIjQ9LjxE/5vPXkTBw/pm5awnXVpE2afFVPnonmo0dw3bmjcMaMmfjLqWclLTtMl3bkJDXguipC0hOKFfE1evtxpep+XfX1mzF//moAQGFhXtIToPr6zVizphHTpw9XFadUKLnzE14kVWaTIyevZeZ6cnnyIvGSy5uSwMnLDqsnz4zrdjh5w7K0WAvlJpmUWjmZMrE8jJD0hGJFSBKYM6cWbW0RAFlJSYDkZX/SNMpP66dSES9L/8wmR05dy25SZjfxklJSVo66GTPx8guLAQCXfHM2SsrKYzL27rbXcOP8BZbmedv+I7H9u0TpoRynm22kI+lS9mY1ZVK6f5aHEZKeUKwI0cGNTYErKoowb94Mx8c1iny9FNMoZ/B6PZXVNuh2r/W3JYtsJWVm5610vFTuGlYuw4pnF8Q++9cbb0PdjJnY9fqr2LlpPV5+YTH+9cbbTM/TSBqm1WxDoCZf6dIdUI9ULXuTC5HVlMnO/aeLlBKSKVCsSFrhpz2w/Ix8vZRfO/6lCunYoEILJeHwcr0XEF8e2CNRDWjcuin2eUlZOYaMHIvGrf+wfA01ATRbyiiVL7kQShOxdE2/UrXsTS5EVlMmO/efqlJKSKZCsSJpRTpu6KuHFSmSJ1Ts+GedTJMqQFk43FzvdWjfR/jD4w/gqutvxns73khooFFSVo6bfrEwJiyCS745G8GCkOOlknZKMOVCKP1pZ0NlP5OqZW9OCaGd+09VKSUkU+EGwT6EqYt1nH52bpQBOs0jj7yEu+5agYcfvtpWV0AmVubJRKlSw8nESj7WwzfPws5N69Hv7HNxaN9HuO5n93hWAqk1L7W/mR3DDn6Rr0xpYEEIIQA3CE4pMjF1cYpU7RJoByfaoHONlXnSVarUXvz1hECkWM1Hj+BvSxZZFofmo0ew6P5bsXPTegA96dd3b5sLAHGJVTJQSuXMJnVOr4uzs8aLEEKIs1CsfIhf9mbKdFIhrQKsSRETKnukq1QB6qJgVCBefmExVjy7AJGOdkMNI+TC1rByGXZuWo9RF02JCVS/s8/FXb9aAgAYfH7ySsqUOiMq7a0lx+v1Z3K8kC8n2q6zUYOz8HkS4j0UKx+SiamLk6RbKaUbEuTkmqpMkjQ/CJXbL+lq64fcau0uFzb5deykX05jtTOil/uNWUVPvrxIvdiowVn4PAnxHooVSTvSrZTSjcYSTpQPCjKl8YUfpApw/yVdrVTNaAnbJd+cHft389EjukKktT+W3bbuTqEks2ZE08v9xtzCWOplb60VGzU4C58nId5DsSJphxOllH4qA3RSggDnEyan5+c3/CJUZkrPkklJWTmCBSEsffIhBAtCukKklQK5JSRmUz8lmTWzVsrL/caSSY98Tcc3mx61dH6qdg/0K3yehHgPxYqkHelWSul0YwmnE6Z0bnzhF6kCUqOcTGBViOTnuSUkZp9lOiROXvJC6R0AYFmwCCEkVWG7dUJk+CmtcgM7iRXXUyWPZDdA0CNZ87NyXb8/y3SDgkUISTfYbp0QAsBewpQJ66n8JlQCv5aTCUmJdLRjxbMLAGinQM1Hj+DlFxYD6FmPpSY2RuVHrwuh0jh2nyXFjBBCiBLZyZ4AIX4i3dMqu8yZU4uHH77a8/VU4XArHnnkJYTDrZ5e12+IPaKajx5J9lRiSMvqrvvZPbFy/sLZ8QAAEp1JREFUObW5NqxchhXPLsCKZxegYeUy3XG1jtFD7Im19MmH8PILix17dk7MLZMQpYGEEJLuMLEihBjGTtplp4zQi6TMr0mVFD+us6qbMRORjvbYv0WCI5+rtPmG9HitcfWOAXpSr2BBCGPqpiW0ZpfuiQXAsWfHNVfm4borQkgmQLEiJAPQkxov1k7ZkSM3Ow+mglAJ/PhCr9YFUD5XqWhJS/bUyuqMluuJ45Ras8vnECwIOfLspHNjWaA5KFiEkHSGYkXIKdKpDFAuSnpS40UiZEeO0rnzoBn8us5KSfjkc1WTQiFckY72mPhYERQjc9B7dnqSpPS5H1PEVICCRQhJRyhWhKQhclHSkxov9qLymxylUlKVLIymMUaET+0YIUKRjnbDguJGQwpAvXxRXEdJovyYIhJCCEkOFCtCkB5plTSlkouSntT4TXrchlJlDLfTGKm4AMZL9dyal1yS5B0HjaRiWrBsMBEmV4SQdIJiRUiaIE+pMkmUjEKhUkYuOOLfemmMXVGQC5JRQbGbElld1yU+Fx0Pzd43ywbVoWARQtIBihUhaYIX5Xx+Rq8BB6VKHekLPwDDsmNXFKwKkt2yP615S6VLreOg0fuWCxzLBvV5ofQOyhUhJGWhWBGSJmRaOZ8crQYcTkpVOpZzKb3wG3n5tyoK0mfoRHJj9jvRmrdSMw25SBm9b/l5fm0+4jeYXhFCUhWKFcl40mF9FVFP7JxOqtKxnMts9zy187ToWxzEpy0RAMaeYWlWJ/6w+PeGZMnsd6I1b6VmGnKRMnrfTKjswfSKEJJqZEWjUcMHB/sOjvad/YSL0yHEeyhW6Ysb5X/pmFg5jfwZ9S0OYtKgSrz/RQs2Nn6Ml19YDKBnc1+lZ3hBVSlqzizGZZddhvKvjLXdJl3tGK3z+D37B8oVIcRv5Ex+cls0Gh0r/3t2MiZDCCFusnTHdNfWVIm0gi/b6ogEadH9t6L56BF82hLB+1+0oObMYlTntGLFswsQLAhpStWuA4dR/pWxhtIeI9+JmFPDymWq8zQ7JvGGF0rviJUHEkKIn6FYkYyGaZU7hMOteOSRlxAOt3p+bTapSD51M2Zi1EVTsHPT+pjIbD/YhPe/aMHldROwZuNmRWESUvX+Fy1oDEdiYiO68MnlRw2l4+tmzMR1P7sndt3mo0cQ6WjH8HET4+ZJ/AvlihDid7jGiqQF3e1NaN21DkUjpiInVJrs6WQ8Wo0k3IJCZRy3y9xKyspx4/wFsWuI6x2qm4a95QFcXjcB73/Rgu0Hm2LnSKVK+nfA/BoqpePlrdIjHe1Y8ewCXP2jWzHiaxdzHVSKwMYWhBA/Q7EiaUHrrnU4tqEeAFA67hpD52RSWqXXitxpvG79TqkyhxcNOKQNHv62ZBGWPvkQ3t32GnZuWo81Gzfj8roJAHqSLC2pAow3gRACN6Zumurx4t6v/tGtuPpHt8aOY8lfasHGFoQQP0KxImlB0YipcT9JPF4kSHJ5s3IdKwKYqlKVzOYIZrvV2Z2ruM6Yumk4b8x47O8uiq25qjmzGABUpQrQ7sLXfPRIrBkGAKx4dgEAdWGU3ruQrGBBKG06PGYSlCtCiN+gWJG0ICdUajipAjIrrQK8SZCckDczY6SqUAmS2bbd7H5KZuaqJGHS6/U7+1wAPUmVkCoA+Pf77kfkeAeC+QWq3QLV5iZk6uof3Rq3jkoJ6VzYDj31YWkgIcRPUKwIyQC82DzYCXkzOkaqSxVg76Xe6bRLbzwzczUqYRdUxa+FnHheNW69tac0z2iCJBpQXPH/3RgnZGIdld7z4Ya96QMFixDiB9gVkBDiCELe7Kzh0hvDjTbqZjvOOYWddt5KrcPtoDeembmK7ntj6qapPlfpmqqlOz7BrgOHccstt+Cv//N3XP2jWw3LpkirSsp64V9vvC02P+n9JOP7TdZ/U4St2QkhyYWJFck4Mq0MkGiTzJI8qzhRwiZNqbTGM5uOCQkTDSuA+Oeq1Kji5Td34+3XwvjOzGvwldEXqq61ks9JrUmF0joq+TzcJBX/m0o3uP6KEJIMKFaEkJTArfK/VFxn40QJm/zlX208+XFGREuU6MnTJ+nmv7987MnYGH94/AHs3LQeJ08uw/e+dS0+2LUDB7POUB1fT1ykrdWV5uE2qfjfFCGEEPtQrEhGwbQqNXFzTVWmrrMxmlLJj9OSGnGe2CPqup/dE5MjaVL1y8eejBvju7fNBQC8sHY9vvzsIG655RasbdiCY1AWK6NzF6WC0nl40Y0xU/+b8htcd0UI8RqKFSHEt6RDkwq/ovXy//ILi7Hi2QWIdLTjX2+8Le44LamR7hEl7c7XtzgYl1SplfB9dcpl+MeWBgz6+6u48usXY+OHh/H+/k81uwyqzUFtrmbL9JLZFp84AwWLEOIVFCuSMTCtSh0oVP5FS2rG1E3Du9tew8gJdXhvxxsARCOHZWif/X38YfHvFaVGlAICwF2/WoIWABs/PIxPWyKnG1G8+GfcMO8xvLfjDU3JkcqU0lzNlulxvVT6wHVXhBC3oVgRQnwFpSr5XPLN2QgWhEyvEdrW8EpMkMRPAFj65EN4d9trsZI/+bji7+InAHzaEokd2/Din3Fo30d4Zt7tOLTvIwDqklNSVh4rA1QSMLNlelwvlV4wvSKEuAnFihDiCyhUzmKnhE0uH0bHEvIxpm4azhszPvb7u9tew85N63HemPGKUtPv7HNx16+WqM7ltsf/C394/AFcdf3NscRKCydSJuk9M6lKP5heEULcgPtYEUJIGuLkXldKYx3a9xEevnlWLEGSUlRaFtv3qqSsHDfOXxC35kpgdL8nIV6Dzx9jaD8tsZeW9Hpm95Zyeq8w4j+45xUhxGmYWBFCkgqTKndwsoRNaSz5uqjmo0ew6P5bY3+TpjzS9ud/W7IolnzZTZbUkjSlcj+z12IJYObA9IoQ4hRMrEhGwMYV/oRSpYzZdEUJIRdOdLJTGuu7t83FqIumxNZFNaxchp2b1mPURVMwpm5abP7Se5GnQHUzZuLqH92KSEd7wr0aeQZGUyUr+1k5+fyI/2F6RQhxAiZWhJCkQKlSJxU60cnXRdXNmInmo1/in+83YsNf/4zVzy3Cu9tew8ChI7Hi2QUATncN/MroC/G3JYswpm4a9u5+Czs3rUewIBR3r/KW70oYTZWU9rOyC9uwpydMrwghdqBYEUI8hUKlj9tlaE5KgXSsg3v3oHHrJgBZGHXRFOzctB4Dh46MrXcSqdaJri40bv0Hdr3+Khq3/gOjLppi+F7lc09WWV8qyC+xBuWKEGIVihVJe1gG6B8oVcYw2xLcLGpS8MHb2/DMvNtxw7zHMPj8MabHkrZNLyotS5A3kVhV9jsLjVv/gQE1wzDiaxfHjjm07yP84fEH8N3b5qq2fLciNG48T67BSm8oV4QQK2RFo1HDBwf7Do72nf2Ei9MhxHkoVv6AUuUf1BKrO66ehEP7PkK/s8/Foys22hpL6TjR3GL4uIkYMnIsLvnm7LhzHr55Vmydllr7dZbgEa+hYBFC5ORMfnJbNBodK/87m1eQtIZS5Q8oVf5CrTHDDfMeQ7+zz8UN8x6zPFbz0SP4P4sex/9Z9Hhc4wlRBtjv7HPRuPUfCBaEEq4vb4hhZu5mcaJBCMkM2NiCEGIUlgISQlyDQuUObqU2g88fo5pUNR89gpdfWAwACUmTFNEoAkBcQwrp5sHbGl5RLKHT2ijYabhGiphFyBUTLEKIGhQrkrYwrUoulCr3SIYUqAmTQMjemLppiHS0A4hffyRd59Tv7HM9mbMWXCNFCCHEaShWhBBHSReh8vNanmRIQd2MmYrCJJDKnmiPLt8Q2E+43SCEpC9MrgghalCsSFrCtCo5pItUAf4uFUuGFJSUlavuJwUoy56fnyEhdqFgEULkUKwIIUQBv5eKSRM1AElP15Rkz+/PkBAnYGt2QoiAYkUIsU06JVUCv5eKSdMgAI4kQ07LmtfP0M/lmyS9oVwRQgCKFUlDWAboLekoVamAUhpkNxkyKmt+FRiWHpJkwtJAQgjFihBiCQpVcpGnQU6IhFFZ86vAsPSQ+AGmV4RkLlnRaNTwwcG+g6N9Zz/h4nQIsQfTKvehUKUuTiVNfk2sCPEbFCxC0pOcyU9ui0ajY+V/z07GZAghhHiPSJoaVi6zNY5IyyhVhGgjygMJIZkBSwFJ2sC0yl2YVKU+XpbKMdUipAeuvSIkc2BiRQjRhVKVHniZNDmVjhGSLjC9IiT9YWJFCFGFQkWsIk/HmGARwvSKkHSHYkUIUYRSRewg71ooEqxIRzuCBSEKFslo2DmQkPSEYkUISYBSRZxGJFeRjnZftmonxGsoV4SkHxQrkhawcYVzUKqIG4gEq/nokVhiRUimw9JAQtILNq8ghMSgVBGnaD56BH9bsgjNR4/E/Z2t2glJ5IXSO9jcgpA0gIkVSXmYVtmHQkWcRqypAljyRwghJDOgWBGS4VCqiBt4uWcWIekCSwMJSW0oVoRkKBQq4ibyroCEEONQsAhJTbjGiqQ0LAO0BqWKJBO19VeEkHi49oqQ1IJiRUiGQakiyUasv2pYuSzZUyEkJaBcEZIasBSQpCxMq8xBoSJ+geuvCDEP970ixP8wsSKEEOIpbLlOiDWYXBHibyhWJCVhWmWcpTumM63KcLimKRE+E5KqcN0VIf6FYkVIGkOhIgDXNCnBZ0JSHcoVIf6Da6wISUMoVEQK1zQlwmdC0gG2ZSfEX2RFo1HDBwf7Do72nf2Ei9MhRB+WAWpDqSKEkMyDckWId+RMfnJbNBodK/87SwEJSSMoVYQQkplw7RUhyYdiRVIKplXKsEEFIYQQgGuvCEkmFCtCUhwKFSGEEClMrwhJDmxeQUiKQqEifqb56BE0rFyGuhkzuV8VIUmCzS0I8RYmVoQQQhyH7cwJ8Q9MrwjxBiZWhKQgTKuIEn5KidjOnBBCSKZBsSIpAxtXUKiINiIlAoBvzLrR0hhOyVlJWbnlORBCnIdlgYS4D8WKkBSBUkX0cCIlckLOCCH+hYJFiHtQrEhKkMlpFYWKGMWJlIglfIRkBhQsQpyHzSsI8TGUKuIlflqjRQghhKQaFCviezI1raJUEa9hJz9CMg/ueUWIc7AUkBAfQqkiyYBlgIRkLiwNJMQ+FCviazItraJQkWTCTn6EEAoWIdZhKSAhPoFSRQghxC+wPJAQ81CsCEkyS3dMp1QRQgjxHZQrQsxBsSK+JRPKAClUhBBC/AzlihDjUKwIIYQQQogq7BxIiDEoVsSXpHtaxfI/QgghqQblihBtKFaEeAyFihBCSKrC9IoQdShWxHeka1rFlIrYpfnoEfxtySI0Hz2S7KkQQjIcyhUhiXAfK0JchjJFnKJh5TIsffIhAOB+U4SQpMM9rwiJh2JFCCEpQt2MmXE/CSHED7xQegflihBQrIjPSKcyQCZVxGlKysqZVBFCfAnTK0K4xooQV6BUEUIIyUTY3IJkMhQrQhyGUkUIISTToVyRTISlgIQ4BIWKEEIIISRzYWJFiANQqoifYZt2QkgyYFkgyTQoVsQ3pGrjCkoV8TuiTXvDymXJngohJAOhYJFMgaWAhNiAUkVSAbZpJ4T4AXYOJOkOxYr4glRLqyhUJJVgm3ZCiJ/gvlckXWEpICEmoVQRQggh9mBpIElHmFiRpJMqaRWFihBCCHEOlgaSdIOJFSEGoFQRQggh7sD0iqQLFCuSVFIhraJUEUIIIe7CzoEkHaBYEaIBpYoQQgjxDsoVSWUoVoSoQKkihBBCvIdyRVIVNq8gScOvZYAUKkIIISS5sLEFSUWYWBEigVJFCCGE+AemVySVYGJFkoLf0ioKFSGEEOJPmF6RVIGJFcl4KFWEEEKI/2HnQOJ3KFbEc/yUVlGqCCGEEEKIE7AUkGQkFCpCCCEkNWFpIPErTKxIxkGpIoQQQlIflgYSv0GxIhkFpYoQQghJLyhXxC9QrEjGQKkihBBC0hOmV8QPUKyIpySrcQWlihBCCEl/KFckmVCsSFqzdMd0ShUhhBCSQVCuSLKgWBHP8DqtolARQgghmQlLA0kyoFiRtIMpFSGEEEIAplfEWyhWJK2gUBFCCCFECtMr4hUUK+IJXpQBUqoIIYQQogblirgNxYqkBZQqQgghhOjB9Iq4CcWKuI6baRXXUxFCCCHELJQr4gZZ0WjU+MFZWYcB/NO96RBCCCGEEEKIrxkQjUYr5X80JVaEEEIIIYQQQhJhKSAhhBBCCCGE2IRiRQghhBBCCCE2oVgRQgghhBBCiE0oVoQQQgghhBBiE4oVIYQQQsj/a7+OBQAAAAAG+VsPYm9ZBDCJFQAAwCRWAAAAk1gBAABMYgUAADAFhDkQ+TlOudkAAAAASUVORK5CYII=\n",
      "text/plain": [
       "<Figure size 1080x648 with 1 Axes>"
      ]
     },
     "metadata": {},
     "output_type": "display_data"
    }
   ],
   "source": [
    "# Put the result into a color plot\n",
    "# \n",
    "# This diagram is a Voronoi diagram (https://en.wikipedia.org/wiki/Voronoi_diagram) using centroids as poitns.\n",
    "# Each colored region represents the area that is closest to a given centroid.\n",
<<<<<<< HEAD
<<<<<<< HEAD
    "\n",
=======
>>>>>>> f43b65a... upd
=======
>>>>>>> parent of 23a3f1a... upd
    "Z = Z.reshape(xx.shape)\n",
    "plt.figure(1, figsize=(15, 9))\n",
    "plt.clf()\n",
    "plt.imshow(Z, interpolation='nearest',\n",
    "           extent=(xx.min(), xx.max(), yy.min(), yy.max()),\n",
    "           cmap=plt.cm.Paired,\n",
    "           aspect='auto', origin='lower')\n",
    "\n",
    "plt.plot(reduced_data[:, 0], reduced_data[:, 1], 'k.', markersize=2)\n",
    "# Plot the centroids as a white X\n",
    "centroids = kmeans.cluster_centers_\n",
    "plt.scatter(centroids[:, 0], centroids[:, 1],\n",
    "            marker='x', s=169, linewidths=3,\n",
    "            color='w', zorder=10)\n",
    "plt.title('K-means clustering on the digits dataset (PCA-reduced data)\\n'\n",
    "          'Centroids are marked with white cross')\n",
    "plt.xlim(x_min, x_max)\n",
    "plt.ylim(y_min, y_max)\n",
    "plt.xticks(())\n",
    "plt.yticks(())\n",
    "plt.show()"
   ]
  }
 ],
 "metadata": {
  "kernelspec": {
   "display_name": "Python 3",
   "language": "python",
   "name": "python3"
  },
  "language_info": {
   "codemirror_mode": {
    "name": "ipython",
    "version": 3
   },
   "file_extension": ".py",
   "mimetype": "text/x-python",
   "name": "python",
   "nbconvert_exporter": "python",
   "pygments_lexer": "ipython3",
   "version": "3.7.4"
  },
  "toc": {
   "nav_menu": {},
   "number_sections": true,
   "sideBar": true,
   "skip_h1_title": false,
   "toc_cell": false,
   "toc_position": {},
   "toc_section_display": "block",
   "toc_window_display": false
  },
  "varInspector": {
   "cols": {
    "lenName": 16,
    "lenType": 16,
    "lenVar": 40
   },
   "kernels_config": {
    "python": {
     "delete_cmd_postfix": "",
     "delete_cmd_prefix": "del ",
     "library": "var_list.py",
     "varRefreshCmd": "print(var_dic_list())"
    },
    "r": {
     "delete_cmd_postfix": ") ",
     "delete_cmd_prefix": "rm(",
     "library": "var_list.r",
     "varRefreshCmd": "cat(var_dic_list()) "
    }
   },
   "types_to_exclude": [
    "module",
    "function",
    "builtin_function_or_method",
    "instance",
    "_Feature"
   ],
   "window_display": false
  }
 },
 "nbformat": 4,
 "nbformat_minor": 1
}
=======
  "cells": [
    {
      "cell_type": "code",
      "execution_count": null,
      "metadata": {
        "collapsed": false
      },
      "outputs": [],
      "source": [
        "%matplotlib inline"
      ]
    },
    {
      "cell_type": "markdown",
      "metadata": {},
      "source": [
        "\n# A demo of K-Means clustering on the handwritten digits data\n\n\nIn this example we compare the various initialization strategies for\nK-means in terms of runtime and quality of the results.\n\nAs the ground truth is known here, we also apply different cluster\nquality metrics to judge the goodness of fit of the cluster labels to the\nground truth.\n\nCluster quality metrics evaluated (see `clustering_evaluation` for\ndefinitions and discussions of the metrics):\n\n=========== ========================================================\nShorthand    full name\n=========== ========================================================\nhomo         homogeneity score\ncompl        completeness score\nv-meas       V measure\nARI          adjusted Rand index\nAMI          adjusted mutual information\nsilhouette   silhouette coefficient\n=========== ========================================================\n"
      ]
    },
    {
      "cell_type": "code",
      "execution_count": null,
      "metadata": {
        "collapsed": false
      },
      "outputs": [],
      "source": [
        "print(__doc__)\n\nfrom time import time\nimport numpy as np\nimport matplotlib.pyplot as plt\n\nfrom sklearn import metrics\nfrom sklearn.cluster import KMeans\nfrom sklearn.datasets import load_digits\nfrom sklearn.decomposition import PCA\nfrom sklearn.preprocessing import scale\n\nnp.random.seed(42)\n\nX_digits, y_digits = load_digits(return_X_y=True)\ndata = scale(X_digits)\n\nn_samples, n_features = data.shape\nn_digits = len(np.unique(y_digits))\nlabels = y_digits\n\nsample_size = 300\n\nprint(\"n_digits: %d, \\t n_samples %d, \\t n_features %d\"\n      % (n_digits, n_samples, n_features))\n\n\nprint(82 * '_')\nprint('init\\t\\ttime\\tinertia\\thomo\\tcompl\\tv-meas\\tARI\\tAMI\\tsilhouette')\n\n\ndef bench_k_means(estimator, name, data):\n    t0 = time()\n    estimator.fit(data)\n    print('%-9s\\t%.2fs\\t%i\\t%.3f\\t%.3f\\t%.3f\\t%.3f\\t%.3f\\t%.3f'\n          % (name, (time() - t0), estimator.inertia_,\n             metrics.homogeneity_score(labels, estimator.labels_),\n             metrics.completeness_score(labels, estimator.labels_),\n             metrics.v_measure_score(labels, estimator.labels_),\n             metrics.adjusted_rand_score(labels, estimator.labels_),\n             metrics.adjusted_mutual_info_score(labels,  estimator.labels_),\n             metrics.silhouette_score(data, estimator.labels_,\n                                      metric='euclidean',\n                                      sample_size=sample_size)))\n\nbench_k_means(KMeans(init='k-means++', n_clusters=n_digits, n_init=10),\n              name=\"k-means++\", data=data)\n\nbench_k_means(KMeans(init='random', n_clusters=n_digits, n_init=10),\n              name=\"random\", data=data)\n\n# in this case the seeding of the centers is deterministic, hence we run the\n# kmeans algorithm only once with n_init=1\npca = PCA(n_components=n_digits).fit(data)\nbench_k_means(KMeans(init=pca.components_, n_clusters=n_digits, n_init=1),\n              name=\"PCA-based\",\n              data=data)\nprint(82 * '_')\n\n# #############################################################################\n# Visualize the results on PCA-reduced data\n\nreduced_data = PCA(n_components=2).fit_transform(data)\nkmeans = KMeans(init='k-means++', n_clusters=n_digits, n_init=10)\nkmeans.fit(reduced_data)\n\n# Step size of the mesh. Decrease to increase the quality of the VQ.\nh = .02     # point in the mesh [x_min, x_max]x[y_min, y_max].\n\n# Plot the decision boundary. For that, we will assign a color to each\nx_min, x_max = reduced_data[:, 0].min() - 1, reduced_data[:, 0].max() + 1\ny_min, y_max = reduced_data[:, 1].min() - 1, reduced_data[:, 1].max() + 1\nxx, yy = np.meshgrid(np.arange(x_min, x_max, h), np.arange(y_min, y_max, h))\n\n# Obtain labels for each point in mesh. Use last trained model.\nZ = kmeans.predict(np.c_[xx.ravel(), yy.ravel()])\n\n# Put the result into a color plot\nZ = Z.reshape(xx.shape)\nplt.figure(1)\nplt.clf()\nplt.imshow(Z, interpolation='nearest',\n           extent=(xx.min(), xx.max(), yy.min(), yy.max()),\n           cmap=plt.cm.Paired,\n           aspect='auto', origin='lower')\n\nplt.plot(reduced_data[:, 0], reduced_data[:, 1], 'k.', markersize=2)\n# Plot the centroids as a white X\ncentroids = kmeans.cluster_centers_\nplt.scatter(centroids[:, 0], centroids[:, 1],\n            marker='x', s=169, linewidths=3,\n            color='w', zorder=10)\nplt.title('K-means clustering on the digits dataset (PCA-reduced data)\\n'\n          'Centroids are marked with white cross')\nplt.xlim(x_min, x_max)\nplt.ylim(y_min, y_max)\nplt.xticks(())\nplt.yticks(())\nplt.show()"
      ]
    }
  ],
  "metadata": {
    "kernelspec": {
      "display_name": "Python 3",
      "language": "python",
      "name": "python3"
    },
    "language_info": {
      "codemirror_mode": {
        "name": "ipython",
        "version": 3
      },
      "file_extension": ".py",
      "mimetype": "text/x-python",
      "name": "python",
      "nbconvert_exporter": "python",
      "pygments_lexer": "ipython3",
      "version": "3.8.2"
    }
  },
  "nbformat": 4,
  "nbformat_minor": 0
}
>>>>>>> 8f85319... upd
